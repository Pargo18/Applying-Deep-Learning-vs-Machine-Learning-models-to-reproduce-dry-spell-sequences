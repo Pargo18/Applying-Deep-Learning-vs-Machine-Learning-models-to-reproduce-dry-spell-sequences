{
  "nbformat": 4,
  "nbformat_minor": 0,
  "metadata": {
    "colab": {
      "name": "Misclassifications_analysis.ipynb",
      "provenance": [],
      "collapsed_sections": [
        "NlMf9qGEaH7f",
        "a967C-uuzHCR",
        "BikWndOS3fWh"
      ]
    },
    "kernelspec": {
      "name": "python3",
      "display_name": "Python 3"
    },
    "language_info": {
      "name": "python"
    }
  },
  "cells": [
    {
      "cell_type": "code",
      "metadata": {
        "id": "7fgnfDg41FH6"
      },
      "source": [
        "# import\n",
        "%matplotlib inline\n",
        "import numpy as np\n",
        "import matplotlib.pyplot as plt\n",
        "import random\n",
        "import pandas as pd"
      ],
      "execution_count": 1,
      "outputs": []
    },
    {
      "cell_type": "code",
      "metadata": {
        "id": "ibeElZ0X1QlA"
      },
      "source": [
        "plt.style.use('ggplot')"
      ],
      "execution_count": 2,
      "outputs": []
    },
    {
      "cell_type": "markdown",
      "metadata": {
        "id": "Z54i8Ksd2nCR"
      },
      "source": [
        "# Load the data"
      ]
    },
    {
      "cell_type": "code",
      "metadata": {
        "colab": {
          "base_uri": "https://localhost:8080/",
          "height": 521
        },
        "id": "9416M3vT2H7v",
        "outputId": "92d3d6d7-4ee0-4306-a137-d628cae76a4e"
      },
      "source": [
        "# load GoogleDrive\n",
        "\n",
        "from google.colab import drive\n",
        "drive.mount('/content/gdrive', force_remount=False)  # access from Google Drive\n",
        "\n",
        "folder = './gdrive/My Drive/Deep-Learning/'\n",
        "\n",
        "# locations\n",
        "\n",
        "locations = pd.read_csv(folder+'stations.txt', sep=' ', index_col=0)\n",
        "\n",
        "locations.head(20)"
      ],
      "execution_count": 3,
      "outputs": [
        {
          "output_type": "stream",
          "text": [
            "Mounted at /content/gdrive\n"
          ],
          "name": "stdout"
        },
        {
          "output_type": "execute_result",
          "data": {
            "text/html": [
              "<div>\n",
              "<style scoped>\n",
              "    .dataframe tbody tr th:only-of-type {\n",
              "        vertical-align: middle;\n",
              "    }\n",
              "\n",
              "    .dataframe tbody tr th {\n",
              "        vertical-align: top;\n",
              "    }\n",
              "\n",
              "    .dataframe thead th {\n",
              "        text-align: right;\n",
              "    }\n",
              "</style>\n",
              "<table border=\"1\" class=\"dataframe\">\n",
              "  <thead>\n",
              "    <tr style=\"text-align: right;\">\n",
              "      <th></th>\n",
              "      <th>database</th>\n",
              "      <th>station_latitude(dec.degree)</th>\n",
              "      <th>station_longitude(dec.degree)</th>\n",
              "      <th>station_altitude(m)</th>\n",
              "    </tr>\n",
              "    <tr>\n",
              "      <th>station_name</th>\n",
              "      <th></th>\n",
              "      <th></th>\n",
              "      <th></th>\n",
              "      <th></th>\n",
              "    </tr>\n",
              "  </thead>\n",
              "  <tbody>\n",
              "    <tr>\n",
              "      <th>TILLABERI</th>\n",
              "      <td>AMMA-CATCH</td>\n",
              "      <td>14.204300</td>\n",
              "      <td>1.454500</td>\n",
              "      <td>212.0</td>\n",
              "    </tr>\n",
              "    <tr>\n",
              "      <th>TOBRE</th>\n",
              "      <td>AMMA-CATCH</td>\n",
              "      <td>10.199100</td>\n",
              "      <td>2.133500</td>\n",
              "      <td>371.0</td>\n",
              "    </tr>\n",
              "    <tr>\n",
              "      <th>TARA</th>\n",
              "      <td>AMMA-CATCH</td>\n",
              "      <td>15.251400</td>\n",
              "      <td>-1.585500</td>\n",
              "      <td>335.0</td>\n",
              "    </tr>\n",
              "    <tr>\n",
              "      <th>AGOUFOU</th>\n",
              "      <td>AMMA-CATCH</td>\n",
              "      <td>15.360000</td>\n",
              "      <td>-1.470000</td>\n",
              "      <td>340.0</td>\n",
              "    </tr>\n",
              "    <tr>\n",
              "      <th>LAWRA</th>\n",
              "      <td>MARLOES</td>\n",
              "      <td>10.866670</td>\n",
              "      <td>-1.483330</td>\n",
              "      <td>305.0</td>\n",
              "    </tr>\n",
              "    <tr>\n",
              "      <th>NAVRONGO</th>\n",
              "      <td>MARLOES</td>\n",
              "      <td>10.530000</td>\n",
              "      <td>-1.050000</td>\n",
              "      <td>201.3</td>\n",
              "    </tr>\n",
              "    <tr>\n",
              "      <th>OUAHIGOUYA</th>\n",
              "      <td>MARLOES</td>\n",
              "      <td>13.520000</td>\n",
              "      <td>-2.390000</td>\n",
              "      <td>365.0</td>\n",
              "    </tr>\n",
              "    <tr>\n",
              "      <th>TAMALE</th>\n",
              "      <td>MARLOES</td>\n",
              "      <td>9.330000</td>\n",
              "      <td>-0.510000</td>\n",
              "      <td>183.3</td>\n",
              "    </tr>\n",
              "    <tr>\n",
              "      <th>WA</th>\n",
              "      <td>MARLOES</td>\n",
              "      <td>10.030000</td>\n",
              "      <td>-2.090000</td>\n",
              "      <td>322.7</td>\n",
              "    </tr>\n",
              "    <tr>\n",
              "      <th>ZUARUNGU</th>\n",
              "      <td>MARLOES</td>\n",
              "      <td>10.783300</td>\n",
              "      <td>-0.800000</td>\n",
              "      <td>235.0</td>\n",
              "    </tr>\n",
              "    <tr>\n",
              "      <th>ANIABISI</th>\n",
              "      <td>WASCAL</td>\n",
              "      <td>10.847251</td>\n",
              "      <td>-0.910629</td>\n",
              "      <td>220.0</td>\n",
              "    </tr>\n",
              "    <tr>\n",
              "      <th>POUDRI</th>\n",
              "      <td>WASCAL</td>\n",
              "      <td>10.913934</td>\n",
              "      <td>1.111897</td>\n",
              "      <td>190.0</td>\n",
              "    </tr>\n",
              "    <tr>\n",
              "      <th>LARE</th>\n",
              "      <td>WASCAL</td>\n",
              "      <td>11.192883</td>\n",
              "      <td>-3.095351</td>\n",
              "      <td>320.0</td>\n",
              "    </tr>\n",
              "    <tr>\n",
              "      <th>YABOGANE</th>\n",
              "      <td>WASCAL</td>\n",
              "      <td>11.261641</td>\n",
              "      <td>-2.968168</td>\n",
              "      <td>305.0</td>\n",
              "    </tr>\n",
              "  </tbody>\n",
              "</table>\n",
              "</div>"
            ],
            "text/plain": [
              "                database  ...  station_altitude(m)\n",
              "station_name              ...                     \n",
              "TILLABERI     AMMA-CATCH  ...                212.0\n",
              "TOBRE         AMMA-CATCH  ...                371.0\n",
              "TARA          AMMA-CATCH  ...                335.0\n",
              "AGOUFOU       AMMA-CATCH  ...                340.0\n",
              "LAWRA            MARLOES  ...                305.0\n",
              "NAVRONGO         MARLOES  ...                201.3\n",
              "OUAHIGOUYA       MARLOES  ...                365.0\n",
              "TAMALE           MARLOES  ...                183.3\n",
              "WA               MARLOES  ...                322.7\n",
              "ZUARUNGU         MARLOES  ...                235.0\n",
              "ANIABISI          WASCAL  ...                220.0\n",
              "POUDRI            WASCAL  ...                190.0\n",
              "LARE              WASCAL  ...                320.0\n",
              "YABOGANE          WASCAL  ...                305.0\n",
              "\n",
              "[14 rows x 4 columns]"
            ]
          },
          "metadata": {
            "tags": []
          },
          "execution_count": 3
        }
      ]
    },
    {
      "cell_type": "code",
      "metadata": {
        "colab": {
          "base_uri": "https://localhost:8080/"
        },
        "id": "MTkL0B6X2SoT",
        "outputId": "fd302a90-b959-4892-92b7-38b9c52ce7ed"
      },
      "source": [
        "# import the CMORPH data\n",
        "\n",
        "df_cmorph = pd.read_csv(folder+'UpdatedResolutions_CMORPH_overlapping.csv', index_col=0)\n",
        "df_cmorph.index = pd.to_datetime(df_cmorph.index, errors='coerce')\n",
        "\n",
        "# import the TAMSAT data\n",
        "\n",
        "df_tamsat = pd.read_csv(folder+'UpdatedResolutions_TAMSAT_overlapping.csv', index_col=0)\n",
        "df_tamsat.index = pd.to_datetime(df_tamsat.index, errors='coerce')\n",
        "\n",
        "# import the IMERG data\n",
        "\n",
        "df_imerg = pd.read_csv(folder+'UpdatedResolutions_IMERG_overlapping.csv', index_col=0)\n",
        "df_imerg.index = pd.to_datetime(df_imerg.index, errors='coerce')\n",
        "\n",
        "\n",
        "\n",
        "\n",
        "# check the dataset shapes\n",
        "\n",
        "print(' ')\n",
        "print(f'Dataset shapes')\n",
        "print(f'---' * 10)\n",
        "\n",
        "print(df_cmorph.shape, df_tamsat.shape, df_imerg.shape)"
      ],
      "execution_count": 4,
      "outputs": [
        {
          "output_type": "stream",
          "text": [
            " \n",
            "Dataset shapes\n",
            "------------------------------\n",
            "(16026, 1027) (16026, 1027) (16026, 1027)\n"
          ],
          "name": "stdout"
        }
      ]
    },
    {
      "cell_type": "code",
      "metadata": {
        "colab": {
          "base_uri": "https://localhost:8080/",
          "height": 810
        },
        "id": "ltu9mG9_2Slf",
        "outputId": "e91f233a-57e2-4a83-b2da-3a0a2d43d495"
      },
      "source": [
        "# classify\n",
        "\n",
        "thr = 1.0  # mm/day, threshold between rainy and wet days\n",
        "\n",
        "# binary values\n",
        "\n",
        "df_cmorph['Rain'] = df_cmorph['R[mm]']\n",
        "df_cmorph['Rain'][df_cmorph['R[mm]'] < thr] = 0.0\n",
        "df_cmorph['Rain'][df_cmorph['R[mm]'] >= thr] = 1.0\n",
        "\n",
        "# we will not need the 'R[mm]' column any more\n",
        "\n",
        "prec = df_cmorph['R[mm]']\n",
        "df_cmorph.drop(['R[mm]'], axis=1, inplace=True)\n",
        "\n",
        "df_cmorph"
      ],
      "execution_count": 5,
      "outputs": [
        {
          "output_type": "stream",
          "text": [
            "/usr/local/lib/python3.7/dist-packages/ipykernel_launcher.py:8: SettingWithCopyWarning: \n",
            "A value is trying to be set on a copy of a slice from a DataFrame\n",
            "\n",
            "See the caveats in the documentation: https://pandas.pydata.org/pandas-docs/stable/user_guide/indexing.html#returning-a-view-versus-a-copy\n",
            "  \n",
            "/usr/local/lib/python3.7/dist-packages/ipykernel_launcher.py:9: SettingWithCopyWarning: \n",
            "A value is trying to be set on a copy of a slice from a DataFrame\n",
            "\n",
            "See the caveats in the documentation: https://pandas.pydata.org/pandas-docs/stable/user_guide/indexing.html#returning-a-view-versus-a-copy\n",
            "  if __name__ == '__main__':\n"
          ],
          "name": "stderr"
        },
        {
          "output_type": "execute_result",
          "data": {
            "text/html": [
              "<div>\n",
              "<style scoped>\n",
              "    .dataframe tbody tr th:only-of-type {\n",
              "        vertical-align: middle;\n",
              "    }\n",
              "\n",
              "    .dataframe tbody tr th {\n",
              "        vertical-align: top;\n",
              "    }\n",
              "\n",
              "    .dataframe thead th {\n",
              "        text-align: right;\n",
              "    }\n",
              "</style>\n",
              "<table border=\"1\" class=\"dataframe\">\n",
              "  <thead>\n",
              "    <tr style=\"text-align: right;\">\n",
              "      <th></th>\n",
              "      <th>0</th>\n",
              "      <th>1</th>\n",
              "      <th>2</th>\n",
              "      <th>3</th>\n",
              "      <th>4</th>\n",
              "      <th>5</th>\n",
              "      <th>6</th>\n",
              "      <th>7</th>\n",
              "      <th>8</th>\n",
              "      <th>9</th>\n",
              "      <th>10</th>\n",
              "      <th>11</th>\n",
              "      <th>12</th>\n",
              "      <th>13</th>\n",
              "      <th>14</th>\n",
              "      <th>15</th>\n",
              "      <th>16</th>\n",
              "      <th>17</th>\n",
              "      <th>18</th>\n",
              "      <th>19</th>\n",
              "      <th>20</th>\n",
              "      <th>21</th>\n",
              "      <th>22</th>\n",
              "      <th>23</th>\n",
              "      <th>24</th>\n",
              "      <th>25</th>\n",
              "      <th>26</th>\n",
              "      <th>27</th>\n",
              "      <th>28</th>\n",
              "      <th>29</th>\n",
              "      <th>30</th>\n",
              "      <th>31</th>\n",
              "      <th>32</th>\n",
              "      <th>33</th>\n",
              "      <th>34</th>\n",
              "      <th>35</th>\n",
              "      <th>36</th>\n",
              "      <th>37</th>\n",
              "      <th>38</th>\n",
              "      <th>39</th>\n",
              "      <th>...</th>\n",
              "      <th>987</th>\n",
              "      <th>988</th>\n",
              "      <th>989</th>\n",
              "      <th>990</th>\n",
              "      <th>991</th>\n",
              "      <th>992</th>\n",
              "      <th>993</th>\n",
              "      <th>994</th>\n",
              "      <th>995</th>\n",
              "      <th>996</th>\n",
              "      <th>997</th>\n",
              "      <th>998</th>\n",
              "      <th>999</th>\n",
              "      <th>1000</th>\n",
              "      <th>1001</th>\n",
              "      <th>1002</th>\n",
              "      <th>1003</th>\n",
              "      <th>1004</th>\n",
              "      <th>1005</th>\n",
              "      <th>1006</th>\n",
              "      <th>1007</th>\n",
              "      <th>1008</th>\n",
              "      <th>1009</th>\n",
              "      <th>1010</th>\n",
              "      <th>1011</th>\n",
              "      <th>1012</th>\n",
              "      <th>1013</th>\n",
              "      <th>1014</th>\n",
              "      <th>1015</th>\n",
              "      <th>1016</th>\n",
              "      <th>1017</th>\n",
              "      <th>1018</th>\n",
              "      <th>1019</th>\n",
              "      <th>1020</th>\n",
              "      <th>1021</th>\n",
              "      <th>1022</th>\n",
              "      <th>1023</th>\n",
              "      <th>latitude</th>\n",
              "      <th>dataset</th>\n",
              "      <th>Rain</th>\n",
              "    </tr>\n",
              "    <tr>\n",
              "      <th>Date</th>\n",
              "      <th></th>\n",
              "      <th></th>\n",
              "      <th></th>\n",
              "      <th></th>\n",
              "      <th></th>\n",
              "      <th></th>\n",
              "      <th></th>\n",
              "      <th></th>\n",
              "      <th></th>\n",
              "      <th></th>\n",
              "      <th></th>\n",
              "      <th></th>\n",
              "      <th></th>\n",
              "      <th></th>\n",
              "      <th></th>\n",
              "      <th></th>\n",
              "      <th></th>\n",
              "      <th></th>\n",
              "      <th></th>\n",
              "      <th></th>\n",
              "      <th></th>\n",
              "      <th></th>\n",
              "      <th></th>\n",
              "      <th></th>\n",
              "      <th></th>\n",
              "      <th></th>\n",
              "      <th></th>\n",
              "      <th></th>\n",
              "      <th></th>\n",
              "      <th></th>\n",
              "      <th></th>\n",
              "      <th></th>\n",
              "      <th></th>\n",
              "      <th></th>\n",
              "      <th></th>\n",
              "      <th></th>\n",
              "      <th></th>\n",
              "      <th></th>\n",
              "      <th></th>\n",
              "      <th></th>\n",
              "      <th></th>\n",
              "      <th></th>\n",
              "      <th></th>\n",
              "      <th></th>\n",
              "      <th></th>\n",
              "      <th></th>\n",
              "      <th></th>\n",
              "      <th></th>\n",
              "      <th></th>\n",
              "      <th></th>\n",
              "      <th></th>\n",
              "      <th></th>\n",
              "      <th></th>\n",
              "      <th></th>\n",
              "      <th></th>\n",
              "      <th></th>\n",
              "      <th></th>\n",
              "      <th></th>\n",
              "      <th></th>\n",
              "      <th></th>\n",
              "      <th></th>\n",
              "      <th></th>\n",
              "      <th></th>\n",
              "      <th></th>\n",
              "      <th></th>\n",
              "      <th></th>\n",
              "      <th></th>\n",
              "      <th></th>\n",
              "      <th></th>\n",
              "      <th></th>\n",
              "      <th></th>\n",
              "      <th></th>\n",
              "      <th></th>\n",
              "      <th></th>\n",
              "      <th></th>\n",
              "      <th></th>\n",
              "      <th></th>\n",
              "      <th></th>\n",
              "      <th></th>\n",
              "      <th></th>\n",
              "      <th></th>\n",
              "    </tr>\n",
              "  </thead>\n",
              "  <tbody>\n",
              "    <tr>\n",
              "      <th>2000-06-08</th>\n",
              "      <td>0.00</td>\n",
              "      <td>0.00</td>\n",
              "      <td>0.00</td>\n",
              "      <td>0.00</td>\n",
              "      <td>0.000000</td>\n",
              "      <td>0.000000</td>\n",
              "      <td>0.00</td>\n",
              "      <td>0.00</td>\n",
              "      <td>0.00</td>\n",
              "      <td>0.00</td>\n",
              "      <td>0.00</td>\n",
              "      <td>0.00</td>\n",
              "      <td>0.000</td>\n",
              "      <td>0.169223</td>\n",
              "      <td>0.075751</td>\n",
              "      <td>0.000000</td>\n",
              "      <td>0.000000</td>\n",
              "      <td>0.000000</td>\n",
              "      <td>0.000000</td>\n",
              "      <td>0.000000</td>\n",
              "      <td>0.00</td>\n",
              "      <td>0.00</td>\n",
              "      <td>0.00</td>\n",
              "      <td>0.00</td>\n",
              "      <td>0.00</td>\n",
              "      <td>0.00</td>\n",
              "      <td>0.00</td>\n",
              "      <td>0.00</td>\n",
              "      <td>0.00</td>\n",
              "      <td>0.00</td>\n",
              "      <td>0.000000</td>\n",
              "      <td>0.00</td>\n",
              "      <td>0.00</td>\n",
              "      <td>0.00</td>\n",
              "      <td>0.00</td>\n",
              "      <td>0.00</td>\n",
              "      <td>0.000000</td>\n",
              "      <td>0.000000</td>\n",
              "      <td>0.00</td>\n",
              "      <td>0.00</td>\n",
              "      <td>...</td>\n",
              "      <td>0.000000</td>\n",
              "      <td>0.000000</td>\n",
              "      <td>0.000000</td>\n",
              "      <td>0.000000</td>\n",
              "      <td>0.000000</td>\n",
              "      <td>0.000000</td>\n",
              "      <td>0.000000</td>\n",
              "      <td>0.000000</td>\n",
              "      <td>0.000000</td>\n",
              "      <td>0.000000</td>\n",
              "      <td>0.000000</td>\n",
              "      <td>0.000000</td>\n",
              "      <td>0.000000</td>\n",
              "      <td>0.000000</td>\n",
              "      <td>0.000000</td>\n",
              "      <td>0.000000</td>\n",
              "      <td>0.000000</td>\n",
              "      <td>0.000000</td>\n",
              "      <td>0.298822</td>\n",
              "      <td>1.185205</td>\n",
              "      <td>2.321692</td>\n",
              "      <td>3.045660</td>\n",
              "      <td>3.254830</td>\n",
              "      <td>2.943529</td>\n",
              "      <td>1.136461</td>\n",
              "      <td>0.476312</td>\n",
              "      <td>0.176544</td>\n",
              "      <td>0.000000</td>\n",
              "      <td>0.000000</td>\n",
              "      <td>0.000000</td>\n",
              "      <td>0.000000</td>\n",
              "      <td>0.000000</td>\n",
              "      <td>0.000000</td>\n",
              "      <td>0.000000</td>\n",
              "      <td>0.187106</td>\n",
              "      <td>0.262240</td>\n",
              "      <td>0.221734</td>\n",
              "      <td>14.204300</td>\n",
              "      <td>CMORPH</td>\n",
              "      <td>0.0</td>\n",
              "    </tr>\n",
              "    <tr>\n",
              "      <th>2000-06-09</th>\n",
              "      <td>0.00</td>\n",
              "      <td>0.00</td>\n",
              "      <td>0.00</td>\n",
              "      <td>0.00</td>\n",
              "      <td>0.000000</td>\n",
              "      <td>0.000000</td>\n",
              "      <td>0.00</td>\n",
              "      <td>0.00</td>\n",
              "      <td>0.00</td>\n",
              "      <td>0.00</td>\n",
              "      <td>0.00</td>\n",
              "      <td>0.00</td>\n",
              "      <td>0.000</td>\n",
              "      <td>0.000000</td>\n",
              "      <td>0.000000</td>\n",
              "      <td>0.000000</td>\n",
              "      <td>0.000000</td>\n",
              "      <td>0.000000</td>\n",
              "      <td>0.000000</td>\n",
              "      <td>0.000000</td>\n",
              "      <td>0.00</td>\n",
              "      <td>0.00</td>\n",
              "      <td>0.00</td>\n",
              "      <td>0.00</td>\n",
              "      <td>0.00</td>\n",
              "      <td>0.00</td>\n",
              "      <td>0.00</td>\n",
              "      <td>0.00</td>\n",
              "      <td>0.00</td>\n",
              "      <td>0.00</td>\n",
              "      <td>0.000000</td>\n",
              "      <td>0.00</td>\n",
              "      <td>0.00</td>\n",
              "      <td>0.00</td>\n",
              "      <td>0.00</td>\n",
              "      <td>0.00</td>\n",
              "      <td>0.000000</td>\n",
              "      <td>0.000000</td>\n",
              "      <td>0.00</td>\n",
              "      <td>0.00</td>\n",
              "      <td>...</td>\n",
              "      <td>1.488693</td>\n",
              "      <td>1.740370</td>\n",
              "      <td>1.085444</td>\n",
              "      <td>0.192998</td>\n",
              "      <td>0.000000</td>\n",
              "      <td>6.483722</td>\n",
              "      <td>19.811516</td>\n",
              "      <td>23.006424</td>\n",
              "      <td>18.560978</td>\n",
              "      <td>11.936769</td>\n",
              "      <td>11.024746</td>\n",
              "      <td>10.506308</td>\n",
              "      <td>11.183578</td>\n",
              "      <td>12.820748</td>\n",
              "      <td>15.571081</td>\n",
              "      <td>8.413095</td>\n",
              "      <td>4.135703</td>\n",
              "      <td>5.314629</td>\n",
              "      <td>6.725379</td>\n",
              "      <td>10.718180</td>\n",
              "      <td>16.291904</td>\n",
              "      <td>20.385557</td>\n",
              "      <td>21.129496</td>\n",
              "      <td>18.566637</td>\n",
              "      <td>8.982130</td>\n",
              "      <td>7.301218</td>\n",
              "      <td>6.607963</td>\n",
              "      <td>6.231372</td>\n",
              "      <td>4.383336</td>\n",
              "      <td>4.409812</td>\n",
              "      <td>3.324329</td>\n",
              "      <td>0.642646</td>\n",
              "      <td>0.355685</td>\n",
              "      <td>0.215835</td>\n",
              "      <td>0.074550</td>\n",
              "      <td>0.000000</td>\n",
              "      <td>0.000000</td>\n",
              "      <td>14.204300</td>\n",
              "      <td>CMORPH</td>\n",
              "      <td>0.0</td>\n",
              "    </tr>\n",
              "    <tr>\n",
              "      <th>2000-06-10</th>\n",
              "      <td>0.00</td>\n",
              "      <td>0.00</td>\n",
              "      <td>0.00</td>\n",
              "      <td>0.00</td>\n",
              "      <td>0.000000</td>\n",
              "      <td>0.000000</td>\n",
              "      <td>0.00</td>\n",
              "      <td>0.00</td>\n",
              "      <td>0.00</td>\n",
              "      <td>0.00</td>\n",
              "      <td>0.00</td>\n",
              "      <td>0.00</td>\n",
              "      <td>0.000</td>\n",
              "      <td>0.000000</td>\n",
              "      <td>0.000000</td>\n",
              "      <td>0.000000</td>\n",
              "      <td>0.000000</td>\n",
              "      <td>0.000000</td>\n",
              "      <td>0.000000</td>\n",
              "      <td>0.000000</td>\n",
              "      <td>0.00</td>\n",
              "      <td>0.00</td>\n",
              "      <td>0.00</td>\n",
              "      <td>0.00</td>\n",
              "      <td>0.00</td>\n",
              "      <td>0.00</td>\n",
              "      <td>0.00</td>\n",
              "      <td>0.00</td>\n",
              "      <td>0.00</td>\n",
              "      <td>0.00</td>\n",
              "      <td>0.000000</td>\n",
              "      <td>0.00</td>\n",
              "      <td>0.00</td>\n",
              "      <td>0.00</td>\n",
              "      <td>0.00</td>\n",
              "      <td>0.00</td>\n",
              "      <td>0.000000</td>\n",
              "      <td>0.000000</td>\n",
              "      <td>0.00</td>\n",
              "      <td>0.00</td>\n",
              "      <td>...</td>\n",
              "      <td>16.517967</td>\n",
              "      <td>15.735293</td>\n",
              "      <td>16.264442</td>\n",
              "      <td>14.935356</td>\n",
              "      <td>13.077184</td>\n",
              "      <td>0.000000</td>\n",
              "      <td>0.000000</td>\n",
              "      <td>0.000000</td>\n",
              "      <td>0.000000</td>\n",
              "      <td>0.000000</td>\n",
              "      <td>0.000000</td>\n",
              "      <td>0.000000</td>\n",
              "      <td>0.000000</td>\n",
              "      <td>0.125696</td>\n",
              "      <td>0.000000</td>\n",
              "      <td>0.000000</td>\n",
              "      <td>0.140034</td>\n",
              "      <td>0.116601</td>\n",
              "      <td>0.528398</td>\n",
              "      <td>1.402359</td>\n",
              "      <td>1.180172</td>\n",
              "      <td>0.942927</td>\n",
              "      <td>1.883932</td>\n",
              "      <td>4.107148</td>\n",
              "      <td>6.503812</td>\n",
              "      <td>13.792906</td>\n",
              "      <td>15.689438</td>\n",
              "      <td>16.826096</td>\n",
              "      <td>17.656454</td>\n",
              "      <td>19.203127</td>\n",
              "      <td>16.236609</td>\n",
              "      <td>16.075899</td>\n",
              "      <td>14.863060</td>\n",
              "      <td>13.357284</td>\n",
              "      <td>12.070374</td>\n",
              "      <td>11.942576</td>\n",
              "      <td>10.774127</td>\n",
              "      <td>14.204300</td>\n",
              "      <td>CMORPH</td>\n",
              "      <td>0.0</td>\n",
              "    </tr>\n",
              "    <tr>\n",
              "      <th>2000-06-11</th>\n",
              "      <td>0.00</td>\n",
              "      <td>0.00</td>\n",
              "      <td>0.00</td>\n",
              "      <td>0.00</td>\n",
              "      <td>0.000000</td>\n",
              "      <td>0.000000</td>\n",
              "      <td>0.00</td>\n",
              "      <td>0.00</td>\n",
              "      <td>0.00</td>\n",
              "      <td>0.00</td>\n",
              "      <td>0.00</td>\n",
              "      <td>0.00</td>\n",
              "      <td>0.000</td>\n",
              "      <td>0.000000</td>\n",
              "      <td>0.000000</td>\n",
              "      <td>0.000000</td>\n",
              "      <td>0.000000</td>\n",
              "      <td>0.000000</td>\n",
              "      <td>0.000000</td>\n",
              "      <td>0.000000</td>\n",
              "      <td>0.00</td>\n",
              "      <td>0.00</td>\n",
              "      <td>0.00</td>\n",
              "      <td>0.00</td>\n",
              "      <td>0.00</td>\n",
              "      <td>0.00</td>\n",
              "      <td>0.00</td>\n",
              "      <td>0.00</td>\n",
              "      <td>0.00</td>\n",
              "      <td>0.00</td>\n",
              "      <td>0.000000</td>\n",
              "      <td>0.00</td>\n",
              "      <td>0.00</td>\n",
              "      <td>0.00</td>\n",
              "      <td>0.00</td>\n",
              "      <td>0.00</td>\n",
              "      <td>0.000000</td>\n",
              "      <td>0.000000</td>\n",
              "      <td>0.00</td>\n",
              "      <td>0.00</td>\n",
              "      <td>...</td>\n",
              "      <td>0.285462</td>\n",
              "      <td>0.175417</td>\n",
              "      <td>0.466907</td>\n",
              "      <td>1.377465</td>\n",
              "      <td>0.650208</td>\n",
              "      <td>14.934494</td>\n",
              "      <td>10.356865</td>\n",
              "      <td>8.188148</td>\n",
              "      <td>8.380214</td>\n",
              "      <td>6.295541</td>\n",
              "      <td>5.732327</td>\n",
              "      <td>5.205595</td>\n",
              "      <td>5.487986</td>\n",
              "      <td>5.166414</td>\n",
              "      <td>3.449150</td>\n",
              "      <td>2.022675</td>\n",
              "      <td>2.205905</td>\n",
              "      <td>2.067136</td>\n",
              "      <td>1.933892</td>\n",
              "      <td>1.227386</td>\n",
              "      <td>0.520791</td>\n",
              "      <td>0.000000</td>\n",
              "      <td>0.000000</td>\n",
              "      <td>0.000000</td>\n",
              "      <td>0.000000</td>\n",
              "      <td>0.000000</td>\n",
              "      <td>0.088741</td>\n",
              "      <td>0.117984</td>\n",
              "      <td>0.122882</td>\n",
              "      <td>0.109459</td>\n",
              "      <td>0.124830</td>\n",
              "      <td>0.090816</td>\n",
              "      <td>0.084605</td>\n",
              "      <td>0.200180</td>\n",
              "      <td>0.392871</td>\n",
              "      <td>0.256930</td>\n",
              "      <td>0.000000</td>\n",
              "      <td>14.204300</td>\n",
              "      <td>CMORPH</td>\n",
              "      <td>0.0</td>\n",
              "    </tr>\n",
              "    <tr>\n",
              "      <th>2000-06-12</th>\n",
              "      <td>0.00</td>\n",
              "      <td>0.00</td>\n",
              "      <td>0.00</td>\n",
              "      <td>0.00</td>\n",
              "      <td>0.217778</td>\n",
              "      <td>0.141667</td>\n",
              "      <td>0.00</td>\n",
              "      <td>0.00</td>\n",
              "      <td>0.00</td>\n",
              "      <td>0.00</td>\n",
              "      <td>0.00</td>\n",
              "      <td>0.00</td>\n",
              "      <td>0.245</td>\n",
              "      <td>0.231111</td>\n",
              "      <td>0.131667</td>\n",
              "      <td>0.268741</td>\n",
              "      <td>0.128191</td>\n",
              "      <td>0.000000</td>\n",
              "      <td>0.000000</td>\n",
              "      <td>0.000000</td>\n",
              "      <td>0.00</td>\n",
              "      <td>0.00</td>\n",
              "      <td>0.00</td>\n",
              "      <td>0.00</td>\n",
              "      <td>0.00</td>\n",
              "      <td>0.00</td>\n",
              "      <td>0.00</td>\n",
              "      <td>0.00</td>\n",
              "      <td>0.00</td>\n",
              "      <td>0.00</td>\n",
              "      <td>0.000000</td>\n",
              "      <td>0.00</td>\n",
              "      <td>0.00</td>\n",
              "      <td>0.00</td>\n",
              "      <td>0.00</td>\n",
              "      <td>0.00</td>\n",
              "      <td>0.000000</td>\n",
              "      <td>0.000000</td>\n",
              "      <td>0.00</td>\n",
              "      <td>0.00</td>\n",
              "      <td>...</td>\n",
              "      <td>0.000000</td>\n",
              "      <td>0.000000</td>\n",
              "      <td>0.114463</td>\n",
              "      <td>0.000000</td>\n",
              "      <td>0.000000</td>\n",
              "      <td>0.000000</td>\n",
              "      <td>0.000000</td>\n",
              "      <td>0.000000</td>\n",
              "      <td>0.000000</td>\n",
              "      <td>0.000000</td>\n",
              "      <td>0.000000</td>\n",
              "      <td>0.000000</td>\n",
              "      <td>0.000000</td>\n",
              "      <td>0.100878</td>\n",
              "      <td>1.468175</td>\n",
              "      <td>0.932161</td>\n",
              "      <td>5.676294</td>\n",
              "      <td>2.758598</td>\n",
              "      <td>1.274993</td>\n",
              "      <td>0.653104</td>\n",
              "      <td>0.365603</td>\n",
              "      <td>0.000000</td>\n",
              "      <td>0.082567</td>\n",
              "      <td>0.258888</td>\n",
              "      <td>0.147319</td>\n",
              "      <td>1.292727</td>\n",
              "      <td>2.103040</td>\n",
              "      <td>2.557600</td>\n",
              "      <td>2.628348</td>\n",
              "      <td>2.530024</td>\n",
              "      <td>0.000000</td>\n",
              "      <td>0.000000</td>\n",
              "      <td>0.000000</td>\n",
              "      <td>0.000000</td>\n",
              "      <td>0.000000</td>\n",
              "      <td>0.000000</td>\n",
              "      <td>0.000000</td>\n",
              "      <td>14.204300</td>\n",
              "      <td>CMORPH</td>\n",
              "      <td>0.0</td>\n",
              "    </tr>\n",
              "    <tr>\n",
              "      <th>...</th>\n",
              "      <td>...</td>\n",
              "      <td>...</td>\n",
              "      <td>...</td>\n",
              "      <td>...</td>\n",
              "      <td>...</td>\n",
              "      <td>...</td>\n",
              "      <td>...</td>\n",
              "      <td>...</td>\n",
              "      <td>...</td>\n",
              "      <td>...</td>\n",
              "      <td>...</td>\n",
              "      <td>...</td>\n",
              "      <td>...</td>\n",
              "      <td>...</td>\n",
              "      <td>...</td>\n",
              "      <td>...</td>\n",
              "      <td>...</td>\n",
              "      <td>...</td>\n",
              "      <td>...</td>\n",
              "      <td>...</td>\n",
              "      <td>...</td>\n",
              "      <td>...</td>\n",
              "      <td>...</td>\n",
              "      <td>...</td>\n",
              "      <td>...</td>\n",
              "      <td>...</td>\n",
              "      <td>...</td>\n",
              "      <td>...</td>\n",
              "      <td>...</td>\n",
              "      <td>...</td>\n",
              "      <td>...</td>\n",
              "      <td>...</td>\n",
              "      <td>...</td>\n",
              "      <td>...</td>\n",
              "      <td>...</td>\n",
              "      <td>...</td>\n",
              "      <td>...</td>\n",
              "      <td>...</td>\n",
              "      <td>...</td>\n",
              "      <td>...</td>\n",
              "      <td>...</td>\n",
              "      <td>...</td>\n",
              "      <td>...</td>\n",
              "      <td>...</td>\n",
              "      <td>...</td>\n",
              "      <td>...</td>\n",
              "      <td>...</td>\n",
              "      <td>...</td>\n",
              "      <td>...</td>\n",
              "      <td>...</td>\n",
              "      <td>...</td>\n",
              "      <td>...</td>\n",
              "      <td>...</td>\n",
              "      <td>...</td>\n",
              "      <td>...</td>\n",
              "      <td>...</td>\n",
              "      <td>...</td>\n",
              "      <td>...</td>\n",
              "      <td>...</td>\n",
              "      <td>...</td>\n",
              "      <td>...</td>\n",
              "      <td>...</td>\n",
              "      <td>...</td>\n",
              "      <td>...</td>\n",
              "      <td>...</td>\n",
              "      <td>...</td>\n",
              "      <td>...</td>\n",
              "      <td>...</td>\n",
              "      <td>...</td>\n",
              "      <td>...</td>\n",
              "      <td>...</td>\n",
              "      <td>...</td>\n",
              "      <td>...</td>\n",
              "      <td>...</td>\n",
              "      <td>...</td>\n",
              "      <td>...</td>\n",
              "      <td>...</td>\n",
              "      <td>...</td>\n",
              "      <td>...</td>\n",
              "      <td>...</td>\n",
              "      <td>...</td>\n",
              "    </tr>\n",
              "    <tr>\n",
              "      <th>2015-09-26</th>\n",
              "      <td>0.00</td>\n",
              "      <td>0.00</td>\n",
              "      <td>3.38</td>\n",
              "      <td>0.00</td>\n",
              "      <td>0.000000</td>\n",
              "      <td>2.520000</td>\n",
              "      <td>1.09</td>\n",
              "      <td>1.44</td>\n",
              "      <td>2.39</td>\n",
              "      <td>1.29</td>\n",
              "      <td>2.17</td>\n",
              "      <td>2.06</td>\n",
              "      <td>6.760</td>\n",
              "      <td>8.809999</td>\n",
              "      <td>23.469999</td>\n",
              "      <td>26.930000</td>\n",
              "      <td>29.920000</td>\n",
              "      <td>19.639999</td>\n",
              "      <td>26.449999</td>\n",
              "      <td>22.769999</td>\n",
              "      <td>0.48</td>\n",
              "      <td>0.87</td>\n",
              "      <td>1.09</td>\n",
              "      <td>0.54</td>\n",
              "      <td>0.76</td>\n",
              "      <td>1.85</td>\n",
              "      <td>5.13</td>\n",
              "      <td>11.59</td>\n",
              "      <td>14.41</td>\n",
              "      <td>11.77</td>\n",
              "      <td>20.209999</td>\n",
              "      <td>14.28</td>\n",
              "      <td>0.68</td>\n",
              "      <td>4.09</td>\n",
              "      <td>2.92</td>\n",
              "      <td>2.10</td>\n",
              "      <td>0.000000</td>\n",
              "      <td>12.650000</td>\n",
              "      <td>17.60</td>\n",
              "      <td>10.96</td>\n",
              "      <td>...</td>\n",
              "      <td>0.900000</td>\n",
              "      <td>0.660000</td>\n",
              "      <td>2.490000</td>\n",
              "      <td>2.030000</td>\n",
              "      <td>1.820000</td>\n",
              "      <td>0.000000</td>\n",
              "      <td>0.000000</td>\n",
              "      <td>0.000000</td>\n",
              "      <td>0.000000</td>\n",
              "      <td>0.000000</td>\n",
              "      <td>0.000000</td>\n",
              "      <td>0.000000</td>\n",
              "      <td>0.000000</td>\n",
              "      <td>0.000000</td>\n",
              "      <td>0.000000</td>\n",
              "      <td>0.000000</td>\n",
              "      <td>0.000000</td>\n",
              "      <td>0.000000</td>\n",
              "      <td>0.000000</td>\n",
              "      <td>0.000000</td>\n",
              "      <td>0.000000</td>\n",
              "      <td>0.000000</td>\n",
              "      <td>0.000000</td>\n",
              "      <td>0.000000</td>\n",
              "      <td>0.000000</td>\n",
              "      <td>0.000000</td>\n",
              "      <td>0.000000</td>\n",
              "      <td>0.000000</td>\n",
              "      <td>0.000000</td>\n",
              "      <td>0.000000</td>\n",
              "      <td>0.310000</td>\n",
              "      <td>0.740000</td>\n",
              "      <td>0.770000</td>\n",
              "      <td>0.700000</td>\n",
              "      <td>1.010000</td>\n",
              "      <td>9.080000</td>\n",
              "      <td>0.800000</td>\n",
              "      <td>11.261641</td>\n",
              "      <td>CMORPH</td>\n",
              "      <td>0.0</td>\n",
              "    </tr>\n",
              "    <tr>\n",
              "      <th>2015-09-27</th>\n",
              "      <td>4.59</td>\n",
              "      <td>3.86</td>\n",
              "      <td>2.59</td>\n",
              "      <td>1.52</td>\n",
              "      <td>2.790000</td>\n",
              "      <td>10.770000</td>\n",
              "      <td>3.29</td>\n",
              "      <td>1.83</td>\n",
              "      <td>0.16</td>\n",
              "      <td>0.00</td>\n",
              "      <td>0.00</td>\n",
              "      <td>0.00</td>\n",
              "      <td>0.000</td>\n",
              "      <td>0.000000</td>\n",
              "      <td>0.000000</td>\n",
              "      <td>0.000000</td>\n",
              "      <td>0.280000</td>\n",
              "      <td>0.180000</td>\n",
              "      <td>0.000000</td>\n",
              "      <td>0.000000</td>\n",
              "      <td>0.00</td>\n",
              "      <td>0.00</td>\n",
              "      <td>0.00</td>\n",
              "      <td>0.00</td>\n",
              "      <td>0.00</td>\n",
              "      <td>0.00</td>\n",
              "      <td>0.00</td>\n",
              "      <td>0.00</td>\n",
              "      <td>0.00</td>\n",
              "      <td>0.00</td>\n",
              "      <td>0.000000</td>\n",
              "      <td>0.00</td>\n",
              "      <td>4.64</td>\n",
              "      <td>4.16</td>\n",
              "      <td>7.65</td>\n",
              "      <td>5.11</td>\n",
              "      <td>24.039999</td>\n",
              "      <td>39.489998</td>\n",
              "      <td>24.01</td>\n",
              "      <td>7.25</td>\n",
              "      <td>...</td>\n",
              "      <td>1.740000</td>\n",
              "      <td>0.130000</td>\n",
              "      <td>0.110000</td>\n",
              "      <td>2.800000</td>\n",
              "      <td>0.530000</td>\n",
              "      <td>8.099999</td>\n",
              "      <td>6.960000</td>\n",
              "      <td>3.190000</td>\n",
              "      <td>2.970000</td>\n",
              "      <td>2.450000</td>\n",
              "      <td>1.600000</td>\n",
              "      <td>1.010000</td>\n",
              "      <td>0.450000</td>\n",
              "      <td>0.180000</td>\n",
              "      <td>0.100000</td>\n",
              "      <td>0.000000</td>\n",
              "      <td>0.000000</td>\n",
              "      <td>0.000000</td>\n",
              "      <td>0.000000</td>\n",
              "      <td>0.000000</td>\n",
              "      <td>0.000000</td>\n",
              "      <td>0.000000</td>\n",
              "      <td>0.280000</td>\n",
              "      <td>0.220000</td>\n",
              "      <td>0.000000</td>\n",
              "      <td>0.000000</td>\n",
              "      <td>0.000000</td>\n",
              "      <td>0.000000</td>\n",
              "      <td>0.000000</td>\n",
              "      <td>0.000000</td>\n",
              "      <td>0.000000</td>\n",
              "      <td>0.000000</td>\n",
              "      <td>0.100000</td>\n",
              "      <td>0.000000</td>\n",
              "      <td>0.470000</td>\n",
              "      <td>1.040000</td>\n",
              "      <td>0.320000</td>\n",
              "      <td>11.261641</td>\n",
              "      <td>CMORPH</td>\n",
              "      <td>0.0</td>\n",
              "    </tr>\n",
              "    <tr>\n",
              "      <th>2015-09-28</th>\n",
              "      <td>10.03</td>\n",
              "      <td>8.27</td>\n",
              "      <td>2.75</td>\n",
              "      <td>0.00</td>\n",
              "      <td>0.000000</td>\n",
              "      <td>0.000000</td>\n",
              "      <td>0.00</td>\n",
              "      <td>0.00</td>\n",
              "      <td>0.00</td>\n",
              "      <td>0.21</td>\n",
              "      <td>0.47</td>\n",
              "      <td>0.27</td>\n",
              "      <td>0.150</td>\n",
              "      <td>0.110000</td>\n",
              "      <td>0.130000</td>\n",
              "      <td>0.000000</td>\n",
              "      <td>0.000000</td>\n",
              "      <td>0.000000</td>\n",
              "      <td>0.000000</td>\n",
              "      <td>0.000000</td>\n",
              "      <td>0.00</td>\n",
              "      <td>0.00</td>\n",
              "      <td>0.00</td>\n",
              "      <td>0.00</td>\n",
              "      <td>0.00</td>\n",
              "      <td>0.00</td>\n",
              "      <td>0.00</td>\n",
              "      <td>0.00</td>\n",
              "      <td>0.00</td>\n",
              "      <td>0.00</td>\n",
              "      <td>0.000000</td>\n",
              "      <td>0.00</td>\n",
              "      <td>10.30</td>\n",
              "      <td>8.15</td>\n",
              "      <td>2.78</td>\n",
              "      <td>0.00</td>\n",
              "      <td>0.000000</td>\n",
              "      <td>0.000000</td>\n",
              "      <td>0.00</td>\n",
              "      <td>0.00</td>\n",
              "      <td>...</td>\n",
              "      <td>10.730000</td>\n",
              "      <td>3.570000</td>\n",
              "      <td>1.870000</td>\n",
              "      <td>2.400000</td>\n",
              "      <td>5.670000</td>\n",
              "      <td>1.200000</td>\n",
              "      <td>3.050000</td>\n",
              "      <td>4.890000</td>\n",
              "      <td>6.100000</td>\n",
              "      <td>6.610000</td>\n",
              "      <td>7.210000</td>\n",
              "      <td>11.940000</td>\n",
              "      <td>4.700000</td>\n",
              "      <td>3.810000</td>\n",
              "      <td>4.020000</td>\n",
              "      <td>0.980000</td>\n",
              "      <td>1.090000</td>\n",
              "      <td>0.860000</td>\n",
              "      <td>0.000000</td>\n",
              "      <td>0.000000</td>\n",
              "      <td>1.460000</td>\n",
              "      <td>1.860000</td>\n",
              "      <td>2.110000</td>\n",
              "      <td>1.930000</td>\n",
              "      <td>6.040000</td>\n",
              "      <td>15.240000</td>\n",
              "      <td>18.379999</td>\n",
              "      <td>12.139999</td>\n",
              "      <td>20.359999</td>\n",
              "      <td>26.150000</td>\n",
              "      <td>23.449999</td>\n",
              "      <td>11.429999</td>\n",
              "      <td>2.830000</td>\n",
              "      <td>0.390000</td>\n",
              "      <td>0.000000</td>\n",
              "      <td>1.310000</td>\n",
              "      <td>2.760000</td>\n",
              "      <td>11.261641</td>\n",
              "      <td>CMORPH</td>\n",
              "      <td>1.0</td>\n",
              "    </tr>\n",
              "    <tr>\n",
              "      <th>2015-09-29</th>\n",
              "      <td>1.85</td>\n",
              "      <td>0.00</td>\n",
              "      <td>0.00</td>\n",
              "      <td>0.00</td>\n",
              "      <td>0.220000</td>\n",
              "      <td>0.100000</td>\n",
              "      <td>0.34</td>\n",
              "      <td>0.00</td>\n",
              "      <td>0.00</td>\n",
              "      <td>0.00</td>\n",
              "      <td>0.00</td>\n",
              "      <td>0.00</td>\n",
              "      <td>0.000</td>\n",
              "      <td>0.000000</td>\n",
              "      <td>0.000000</td>\n",
              "      <td>0.000000</td>\n",
              "      <td>0.000000</td>\n",
              "      <td>0.000000</td>\n",
              "      <td>0.000000</td>\n",
              "      <td>0.000000</td>\n",
              "      <td>0.00</td>\n",
              "      <td>0.00</td>\n",
              "      <td>0.00</td>\n",
              "      <td>0.00</td>\n",
              "      <td>0.00</td>\n",
              "      <td>0.00</td>\n",
              "      <td>0.00</td>\n",
              "      <td>0.00</td>\n",
              "      <td>0.00</td>\n",
              "      <td>0.00</td>\n",
              "      <td>0.000000</td>\n",
              "      <td>0.00</td>\n",
              "      <td>1.56</td>\n",
              "      <td>0.00</td>\n",
              "      <td>0.12</td>\n",
              "      <td>0.56</td>\n",
              "      <td>0.640000</td>\n",
              "      <td>0.920000</td>\n",
              "      <td>3.10</td>\n",
              "      <td>1.79</td>\n",
              "      <td>...</td>\n",
              "      <td>2.090000</td>\n",
              "      <td>1.820000</td>\n",
              "      <td>0.600000</td>\n",
              "      <td>0.950000</td>\n",
              "      <td>2.240000</td>\n",
              "      <td>15.099999</td>\n",
              "      <td>26.039999</td>\n",
              "      <td>34.950001</td>\n",
              "      <td>35.910000</td>\n",
              "      <td>29.000000</td>\n",
              "      <td>19.139999</td>\n",
              "      <td>10.880000</td>\n",
              "      <td>4.770000</td>\n",
              "      <td>1.800000</td>\n",
              "      <td>0.320000</td>\n",
              "      <td>0.160000</td>\n",
              "      <td>0.230000</td>\n",
              "      <td>0.620000</td>\n",
              "      <td>0.000000</td>\n",
              "      <td>0.000000</td>\n",
              "      <td>3.440000</td>\n",
              "      <td>4.990000</td>\n",
              "      <td>7.690000</td>\n",
              "      <td>7.970000</td>\n",
              "      <td>7.300000</td>\n",
              "      <td>0.740000</td>\n",
              "      <td>0.110000</td>\n",
              "      <td>0.100000</td>\n",
              "      <td>0.360000</td>\n",
              "      <td>0.620000</td>\n",
              "      <td>0.720000</td>\n",
              "      <td>0.580000</td>\n",
              "      <td>0.540000</td>\n",
              "      <td>0.410000</td>\n",
              "      <td>0.220000</td>\n",
              "      <td>0.090000</td>\n",
              "      <td>0.160000</td>\n",
              "      <td>11.261641</td>\n",
              "      <td>CMORPH</td>\n",
              "      <td>0.0</td>\n",
              "    </tr>\n",
              "    <tr>\n",
              "      <th>2015-09-30</th>\n",
              "      <td>0.00</td>\n",
              "      <td>0.00</td>\n",
              "      <td>0.00</td>\n",
              "      <td>0.00</td>\n",
              "      <td>0.000000</td>\n",
              "      <td>0.000000</td>\n",
              "      <td>0.00</td>\n",
              "      <td>0.00</td>\n",
              "      <td>0.00</td>\n",
              "      <td>0.00</td>\n",
              "      <td>0.00</td>\n",
              "      <td>0.00</td>\n",
              "      <td>0.000</td>\n",
              "      <td>0.000000</td>\n",
              "      <td>0.000000</td>\n",
              "      <td>0.000000</td>\n",
              "      <td>0.000000</td>\n",
              "      <td>0.000000</td>\n",
              "      <td>0.000000</td>\n",
              "      <td>0.000000</td>\n",
              "      <td>0.00</td>\n",
              "      <td>0.00</td>\n",
              "      <td>0.00</td>\n",
              "      <td>0.00</td>\n",
              "      <td>0.00</td>\n",
              "      <td>0.00</td>\n",
              "      <td>0.00</td>\n",
              "      <td>0.00</td>\n",
              "      <td>0.00</td>\n",
              "      <td>0.00</td>\n",
              "      <td>0.000000</td>\n",
              "      <td>0.00</td>\n",
              "      <td>0.00</td>\n",
              "      <td>0.00</td>\n",
              "      <td>0.00</td>\n",
              "      <td>0.00</td>\n",
              "      <td>0.000000</td>\n",
              "      <td>0.000000</td>\n",
              "      <td>0.00</td>\n",
              "      <td>0.00</td>\n",
              "      <td>...</td>\n",
              "      <td>10.099999</td>\n",
              "      <td>8.480000</td>\n",
              "      <td>6.970000</td>\n",
              "      <td>3.020000</td>\n",
              "      <td>2.040000</td>\n",
              "      <td>23.129999</td>\n",
              "      <td>9.410000</td>\n",
              "      <td>7.040000</td>\n",
              "      <td>5.690000</td>\n",
              "      <td>5.540000</td>\n",
              "      <td>6.090000</td>\n",
              "      <td>7.400000</td>\n",
              "      <td>10.130000</td>\n",
              "      <td>13.250000</td>\n",
              "      <td>11.929999</td>\n",
              "      <td>10.809999</td>\n",
              "      <td>9.050000</td>\n",
              "      <td>4.960000</td>\n",
              "      <td>7.490000</td>\n",
              "      <td>7.800000</td>\n",
              "      <td>8.920000</td>\n",
              "      <td>9.620000</td>\n",
              "      <td>8.450000</td>\n",
              "      <td>5.030000</td>\n",
              "      <td>3.750000</td>\n",
              "      <td>0.760000</td>\n",
              "      <td>0.940000</td>\n",
              "      <td>1.520000</td>\n",
              "      <td>2.430000</td>\n",
              "      <td>3.790000</td>\n",
              "      <td>5.690000</td>\n",
              "      <td>7.330000</td>\n",
              "      <td>8.309999</td>\n",
              "      <td>6.990000</td>\n",
              "      <td>6.070000</td>\n",
              "      <td>7.750000</td>\n",
              "      <td>2.380000</td>\n",
              "      <td>11.261641</td>\n",
              "      <td>CMORPH</td>\n",
              "      <td>1.0</td>\n",
              "    </tr>\n",
              "  </tbody>\n",
              "</table>\n",
              "<p>16026 rows × 1027 columns</p>\n",
              "</div>"
            ],
            "text/plain": [
              "                0     1     2     3  ...       1023   latitude  dataset  Rain\n",
              "Date                                 ...                                     \n",
              "2000-06-08   0.00  0.00  0.00  0.00  ...   0.221734  14.204300   CMORPH   0.0\n",
              "2000-06-09   0.00  0.00  0.00  0.00  ...   0.000000  14.204300   CMORPH   0.0\n",
              "2000-06-10   0.00  0.00  0.00  0.00  ...  10.774127  14.204300   CMORPH   0.0\n",
              "2000-06-11   0.00  0.00  0.00  0.00  ...   0.000000  14.204300   CMORPH   0.0\n",
              "2000-06-12   0.00  0.00  0.00  0.00  ...   0.000000  14.204300   CMORPH   0.0\n",
              "...           ...   ...   ...   ...  ...        ...        ...      ...   ...\n",
              "2015-09-26   0.00  0.00  3.38  0.00  ...   0.800000  11.261641   CMORPH   0.0\n",
              "2015-09-27   4.59  3.86  2.59  1.52  ...   0.320000  11.261641   CMORPH   0.0\n",
              "2015-09-28  10.03  8.27  2.75  0.00  ...   2.760000  11.261641   CMORPH   1.0\n",
              "2015-09-29   1.85  0.00  0.00  0.00  ...   0.160000  11.261641   CMORPH   0.0\n",
              "2015-09-30   0.00  0.00  0.00  0.00  ...   2.380000  11.261641   CMORPH   1.0\n",
              "\n",
              "[16026 rows x 1027 columns]"
            ]
          },
          "metadata": {
            "tags": []
          },
          "execution_count": 5
        }
      ]
    },
    {
      "cell_type": "code",
      "metadata": {
        "colab": {
          "base_uri": "https://localhost:8080/"
        },
        "id": "S0RTFFCX2Siv",
        "outputId": "41d0826e-ec8f-414e-c3ce-d508df6bef49"
      },
      "source": [
        "# labels are the rainfall intermittency sequence\n",
        "\n",
        "y = df_cmorph['Rain']\n",
        "print(y.shape, prec.shape)\n",
        "\n",
        "df = df_cmorph['latitude']\n",
        "x_cmorph = df_cmorph.drop(['Rain',  'dataset', 'latitude'], axis=1)\n",
        "x_tamsat = df_tamsat.drop(['R[mm]', 'dataset', 'latitude'], axis=1)\n",
        "x_imerg  = df_imerg.drop([ 'R[mm]', 'dataset', 'latitude'], axis=1)\n",
        "print(x_cmorph.shape, x_tamsat.shape, x_imerg.shape)\n",
        "\n",
        "\n",
        "\n",
        "# reshape to (x, 32, 32)\n",
        "\n",
        "pixels = 32  # insert 32 for 32 * 32, 16 for 16 * 16 etc.\n",
        "\n",
        "\n",
        "x_cmorph = x_cmorph.to_numpy()\n",
        "x_cmorph = np.reshape(x_cmorph, (len(x_cmorph), pixels, pixels))  # is the reshape correct?\n",
        "\n",
        "x_tamsat = x_tamsat.to_numpy()\n",
        "x_tamsat = np.reshape(x_tamsat, (len(x_tamsat), pixels, pixels))\n",
        "\n",
        "x_imerg = x_imerg.to_numpy()\n",
        "x_imerg = np.reshape(x_imerg, (len(x_imerg), pixels, pixels))\n",
        "\n",
        "print(x_cmorph.shape, x_tamsat.shape, x_imerg.shape)\n",
        "\n",
        "\n",
        "\n",
        "\n",
        "# the input has to be (x, 32, 32, 3)\n",
        "\n",
        "x = np.zeros((len(df_cmorph), pixels, pixels, 3))\n",
        "\n",
        "x[:, :, :, 0] = x_cmorph\n",
        "x[:, :, :, 1] = x_tamsat\n",
        "x[:, :, :, 2] = x_imerg\n",
        "\n",
        "print(' ')\n",
        "print(f'Final shape')\n",
        "print(f'---' * 10)\n",
        "\n",
        "print(x.shape)"
      ],
      "execution_count": 6,
      "outputs": [
        {
          "output_type": "stream",
          "text": [
            "(16026,) (16026,)\n",
            "(16026, 1024) (16026, 1024) (16026, 1024)\n",
            "(16026, 32, 32) (16026, 32, 32) (16026, 32, 32)\n",
            " \n",
            "Final shape\n",
            "------------------------------\n",
            "(16026, 32, 32, 3)\n"
          ],
          "name": "stdout"
        }
      ]
    },
    {
      "cell_type": "markdown",
      "metadata": {
        "id": "xe7Ni8SgmXbu"
      },
      "source": [
        "# Pre-processing"
      ]
    },
    {
      "cell_type": "markdown",
      "metadata": {
        "id": "7uDXD1D-mhVG"
      },
      "source": [
        "Wet-day ratio:"
      ]
    },
    {
      "cell_type": "code",
      "metadata": {
        "colab": {
          "base_uri": "https://localhost:8080/"
        },
        "id": "haDMy8z3mX9l",
        "outputId": "9f0b5117-5daa-467d-d5f6-e9d21af66cf8"
      },
      "source": [
        "per = sum(y) * 100 / len(y)\n",
        "print(f'The percentage of rainy days in the dataset is {per:.2f}%.')"
      ],
      "execution_count": null,
      "outputs": [
        {
          "output_type": "stream",
          "text": [
            "The percentage of rainy days in the dataset is 28.25%.\n"
          ],
          "name": "stdout"
        }
      ]
    },
    {
      "cell_type": "markdown",
      "metadata": {
        "id": "zZg6kW7ZmpKG"
      },
      "source": [
        "Normalization of input"
      ]
    },
    {
      "cell_type": "code",
      "metadata": {
        "colab": {
          "base_uri": "https://localhost:8080/"
        },
        "id": "-nlMBMg7mpnj",
        "outputId": "53a3b6ea-2731-457e-9906-45d73577569a"
      },
      "source": [
        "# maximum pixel value CMORPH\n",
        "m_CMORPH = np.max(np.max(x[:,:,:,0]))\n",
        "print('maximum pixel value of all collumns:', m_CMORPH)\n",
        "\n",
        "# maximum pixel value TAMSAT\n",
        "m_TAMSAT = np.max(np.max(x[:,:,:,1]))\n",
        "print('maximum pixel value of all collumns:', m_TAMSAT)\n",
        "\n",
        "# maximum pixel value IMERG\n",
        "m_IMERG = np.max(np.max(x[:,:,:,2]))\n",
        "print('maximum pixel value of all collumns:', m_IMERG)"
      ],
      "execution_count": 7,
      "outputs": [
        {
          "output_type": "stream",
          "text": [
            "maximum pixel value of all collumns: 273.5370483398437\n",
            "maximum pixel value of all collumns: 157.0\n",
            "maximum pixel value of all collumns: 413.2111111111112\n"
          ],
          "name": "stdout"
        }
      ]
    },
    {
      "cell_type": "code",
      "metadata": {
        "colab": {
          "base_uri": "https://localhost:8080/"
        },
        "id": "MqICbEFbmqNf",
        "outputId": "d81584bf-7dd6-4029-b3fb-1b90e9541135"
      },
      "source": [
        "# scale the data for the maximum pixel value of all pixels\n",
        "\n",
        "x[:,:,:,0] = x[:,:,:,0] / m_CMORPH\n",
        "x[:,:,:,1] = x[:,:,:,1] / m_TAMSAT\n",
        "x[:,:,:,2] = x[:,:,:,2] / m_IMERG\n",
        "\n",
        "print(np.max(np.max(x[:,:,:,0])), np.max(np.max(x[:,:,:,1])), np.max(np.max(x[:,:,:,2])))"
      ],
      "execution_count": 8,
      "outputs": [
        {
          "output_type": "stream",
          "text": [
            "1.0 1.0 1.0\n"
          ],
          "name": "stdout"
        }
      ]
    },
    {
      "cell_type": "code",
      "metadata": {
        "id": "fnlAhn73mqEq"
      },
      "source": [
        "# x[:,:,:,0]  # checking MinMaxScaler"
      ],
      "execution_count": null,
      "outputs": []
    },
    {
      "cell_type": "markdown",
      "metadata": {
        "id": "fN0DzlXd3fFi"
      },
      "source": [
        "## Dataset transformation to be used as input for the CNN"
      ]
    },
    {
      "cell_type": "markdown",
      "metadata": {
        "id": "m8rlgPZl0Wx5"
      },
      "source": [
        "split training:"
      ]
    },
    {
      "cell_type": "code",
      "metadata": {
        "colab": {
          "base_uri": "https://localhost:8080/"
        },
        "id": "ziT79OG4Yrfu",
        "outputId": "66715b81-53c5-46db-dc17-fd5fa350ab05"
      },
      "source": [
        "# training, validation and test datasets\n",
        "\n",
        "from sklearn.model_selection import train_test_split\n",
        "\n",
        "# get the intial indices\n",
        "ind = np.arange(len(x))\n",
        "\n",
        "# x_tra, x_val, y_tra, y_val = train_test_split(x, y, test_size=0.10, random_state=42)\n",
        "x_tra, x_tst, y_tra, y_tst, ind_tra, ind_tst = train_test_split(x, y, ind, test_size=0.30, random_state=42)\n",
        "\n",
        "for name, data in zip(['TRAINING', 'TEST    '], [x_tra, x_tst]):\n",
        "  print(f'The {name} dataset is {len(data)} rows long.')"
      ],
      "execution_count": 9,
      "outputs": [
        {
          "output_type": "stream",
          "text": [
            "The TRAINING dataset is 11218 rows long.\n",
            "The TEST     dataset is 4808 rows long.\n"
          ],
          "name": "stdout"
        }
      ]
    },
    {
      "cell_type": "code",
      "metadata": {
        "colab": {
          "base_uri": "https://localhost:8080/"
        },
        "id": "_YRk7Xjwui1Z",
        "outputId": "c9b7562f-a73d-4356-d896-31ab1f58d369"
      },
      "source": [
        "print(x_tra.shape, x_tst.shape, y_tra.shape, y_tst.shape)"
      ],
      "execution_count": 10,
      "outputs": [
        {
          "output_type": "stream",
          "text": [
            "(11218, 32, 32, 3) (4808, 32, 32, 3) (11218,) (4808,)\n"
          ],
          "name": "stdout"
        }
      ]
    },
    {
      "cell_type": "markdown",
      "metadata": {
        "id": "6dSOZDNukyk6"
      },
      "source": [
        "Check training and test index"
      ]
    },
    {
      "cell_type": "code",
      "metadata": {
        "colab": {
          "base_uri": "https://localhost:8080/"
        },
        "id": "8o3m1T7TkzTv",
        "outputId": "b4d34823-6f2c-4b85-ab43-4564f6b5350d"
      },
      "source": [
        "print(len(ind_tra), ind_tra)\n",
        "print(len(ind_tst), ind_tst)"
      ],
      "execution_count": 11,
      "outputs": [
        {
          "output_type": "stream",
          "text": [
            "11218 [ 3100  6390 11356 ...   860 15795  7270]\n",
            "4808 [ 4829  1962  2546 ...  5458 12523  3244]\n"
          ],
          "name": "stdout"
        }
      ]
    },
    {
      "cell_type": "markdown",
      "metadata": {
        "id": "aDYn-iY-gKBx"
      },
      "source": [
        "Visualize random image from TRAINING dataset:"
      ]
    },
    {
      "cell_type": "code",
      "metadata": {
        "colab": {
          "base_uri": "https://localhost:8080/",
          "height": 406
        },
        "id": "8iIhCOTYgKpA",
        "outputId": "7b114797-cf48-4fe1-cc2e-a8153af37f0a"
      },
      "source": [
        "# select random image\n",
        "ix = random.randint(0, x_tra.shape[0])\n",
        "station = locations.index[ locations[ 'station_latitude(dec.degree)' ] == df.iloc[ ind_tra[ ix ] ] ][0]\n",
        "\n",
        "\n",
        "# set minimum and maximum in colorbars\n",
        "prec_max = max( np.max(x[ix,:,:,0]) * m_CMORPH, np.max(x[ix,:,:,1]) * m_TAMSAT, np.max(x[ix,:,:,2]) * m_IMERG )\n",
        "prec_max = min(prec_max, 40)  # set a threshold so it can be visible\n",
        "# print(prec_max)\n",
        " \n",
        "\n",
        "# create subplots\n",
        "plt.figure(figsize=(20, 6))\n",
        "plt.suptitle(f'Station {station} on {df.index[ ind_tra[ix] ].date()}: LABEL={y_tra[ix]} | Rainfall {prec[ ind_tra[ ix ]]:.2f}mm/d.', fontsize=15)\n",
        "plt.subplot()\n",
        "\n",
        "plt.subplot(131)\n",
        "img = x_tra[ix, :, :, 0] * m_CMORPH\n",
        "# plot image\n",
        "plt.imshow(img, vmin=0, vmax=prec_max, cmap='Blues')\n",
        "plt.plot(pixels/2, pixels/2, 'ro')\n",
        "plt.colorbar()\n",
        "plt.title(f'CMORPH')  \n",
        "\n",
        "\n",
        "plt.subplot(132)\n",
        "img = x_tra[ix, :, :, 1] * m_TAMSAT\n",
        "# plot image\n",
        "plt.imshow(img, vmin=0, vmax=prec_max, cmap='Blues')\n",
        "plt.plot(pixels/2, pixels/2, 'ro')\n",
        "plt.colorbar()\n",
        "plt.title(f'TAMSAT')  \n",
        "\n",
        "\n",
        "plt.subplot(133)\n",
        "img = x_tra[ix, :, :, 2] * m_IMERG\n",
        "# plot image\n",
        "plt.imshow(img, vmin=0, vmax=prec_max, cmap='Blues')\n",
        "plt.plot(pixels/2, pixels/2, 'ro')\n",
        "plt.title(f'IMERG')\n",
        "\n",
        "\n",
        "plt.colorbar();"
      ],
      "execution_count": 12,
      "outputs": [
        {
          "output_type": "display_data",
          "data": {
            "image/png": "[encoded data removed]",
            "text/plain": [
              "<Figure size 1440x432 with 6 Axes>"
            ]
          },
          "metadata": {
            "tags": []
          }
        }
      ]
    },
    {
      "cell_type": "markdown",
      "metadata": {
        "id": "NlMf9qGEaH7f"
      },
      "source": [
        "### Similarity indices:"
      ]
    },
    {
      "cell_type": "markdown",
      "metadata": {
        "id": "z2RWBrYNaSs8"
      },
      "source": [
        "1. Correlation coefficient"
      ]
    },
    {
      "cell_type": "code",
      "metadata": {
        "colab": {
          "base_uri": "https://localhost:8080/"
        },
        "id": "U7lTR83zaRzk",
        "outputId": "0fb42819-5591-4b4e-dda6-01dbc11e53c0"
      },
      "source": [
        "corr_CMORPH_TAMSAT = np.corrcoef( x_tra[ix, :, :, 0].flatten(), x_tra[ix, :, :, 1].flatten() )[0][1]\n",
        "corr_CMORPH_IMERG  = np.corrcoef( x_tra[ix, :, :, 0].flatten(), x_tra[ix, :, :, 2].flatten() )[0][1]\n",
        "corr_TAMSAT_IMERG  = np.corrcoef( x_tra[ix, :, :, 1].flatten(), x_tra[ix, :, :, 2].flatten() )[0][1]\n",
        "\n",
        "print(f'Correlation between CMORPH and TAMSAT:  {corr_CMORPH_TAMSAT:.2f}.')\n",
        "print(f'Correlation between CMORPH and IMERG:   {corr_CMORPH_IMERG:.2f}.')\n",
        "print(f'Correlation between TAMSAT and IMERG:   {corr_TAMSAT_IMERG:.2f}.')"
      ],
      "execution_count": null,
      "outputs": [
        {
          "output_type": "stream",
          "text": [
            "Correlation between CMORPH and TAMSAT:  -0.12.\n",
            "Correlation between CMORPH and IMERG:   0.24.\n",
            "Correlation between TAMSAT and IMERG:   0.03.\n"
          ],
          "name": "stdout"
        }
      ]
    },
    {
      "cell_type": "markdown",
      "metadata": {
        "id": "pJuvK7kzc-EE"
      },
      "source": [
        "2. Co-occurrence matrix (coma)"
      ]
    },
    {
      "cell_type": "markdown",
      "metadata": {
        "id": "tejhoRjg9XPj"
      },
      "source": [
        "First create **X** classes representing different intervals of normalized rain intensities (0.0 - 0.1, 0.1 - 0.2, etc.)"
      ]
    },
    {
      "cell_type": "code",
      "metadata": {
        "id": "VpEx0HoCaIvQ"
      },
      "source": [
        "num_classes = 50  # choose the number of classes to be created\n",
        "div = 1 / num_classes\n",
        "\n",
        "CMORPH_classes = ((x_tra[ix, :, :, 0] // div) ).astype(int)\n",
        "TAMSAT_classes = ((x_tra[ix, :, :, 1] // div) ).astype(int)\n",
        "IMERG_classes  = ((x_tra[ix, :, :, 2] // div) ).astype(int)"
      ],
      "execution_count": null,
      "outputs": []
    },
    {
      "cell_type": "markdown",
      "metadata": {
        "id": "Q4DHzriH9k_j"
      },
      "source": [
        "Let's see how many unique classes each image has."
      ]
    },
    {
      "cell_type": "code",
      "metadata": {
        "colab": {
          "base_uri": "https://localhost:8080/"
        },
        "id": "8msKXHwtaJYX",
        "outputId": "9c1cbb12-782c-49a9-a216-2f6514e01004"
      },
      "source": [
        "print('CMORPH has the following classes: ', np.unique( CMORPH_classes ))\n",
        "print('TAMSAT has the following classes: ', np.unique( TAMSAT_classes ))\n",
        "print('IMERG  has the following classes: ', np.unique( IMERG_classes  ))"
      ],
      "execution_count": null,
      "outputs": [
        {
          "output_type": "stream",
          "text": [
            "CMORPH has the following classes:  [0 1 2 3]\n",
            "TAMSAT has the following classes:  [ 0  1  2  3  4  5  7  9 15 20 21 23 24 25 30 35 37 46 48 49]\n",
            "IMERG  has the following classes:  [0 1 2 3 4 5 6 7 8]\n"
          ],
          "name": "stdout"
        }
      ]
    },
    {
      "cell_type": "markdown",
      "metadata": {
        "id": "5QJ61BvvBBUD"
      },
      "source": [
        "Calculate the co-occurance matrices"
      ]
    },
    {
      "cell_type": "code",
      "metadata": {
        "colab": {
          "base_uri": "https://localhost:8080/"
        },
        "id": "wF4IrPU9aJGl",
        "outputId": "e455848d-989d-4d04-cd33-7c47d12baf4b"
      },
      "source": [
        "from skimage.feature import greycomatrix, greycoprops\n",
        "\n",
        "angles = [0, np.pi/4, np.pi/2, 3*np.pi/4]\n",
        "levels = max( np.max(CMORPH_classes), np.max(TAMSAT_classes), np.max(IMERG_classes) ) + 1  # maximum values will be used as levels\n",
        "# print(levels)\n",
        "\n",
        "coma_CMORPH = greycomatrix( CMORPH_classes, distances=[1], angles=angles, levels=levels, symmetric=True, normed=True)\n",
        "homogeneity_CMORPH  = greycoprops( coma_CMORPH, prop='homogeneity' )[0, 0]\n",
        "\n",
        "coma_TAMSAT = greycomatrix( TAMSAT_classes, distances=[1], angles=angles, levels=levels, symmetric=True, normed=True)\n",
        "homogeneity_TAMSAT  = greycoprops( coma_TAMSAT, prop='homogeneity' )[0, 0]\n",
        "\n",
        "coma_IMERG  = greycomatrix( IMERG_classes , distances=[1], angles=angles, levels=levels, symmetric=True, normed=True)\n",
        "homogeneity_IMERG  = greycoprops( coma_IMERG, prop='homogeneity' )[0, 0]\n",
        "\n",
        "\n",
        "# print shape and homogeneity\n",
        "print(f'CMORPH has shape of: {coma_CMORPH.shape} and homogeneity: {homogeneity_CMORPH:.2f}.' )\n",
        "print(f'TAMSAT has shape of: {coma_TAMSAT.shape} and homogeneity: {homogeneity_TAMSAT:.2f}.' )\n",
        "print(f'IMERG  has shape of: {coma_IMERG.shape} and homogeneity: {homogeneity_IMERG:.2f}.' )"
      ],
      "execution_count": null,
      "outputs": [
        {
          "output_type": "stream",
          "text": [
            "CMORPH has shape of: (50, 50, 1, 4) and homogeneity: 0.95.\n",
            "TAMSAT has shape of: (50, 50, 1, 4) and homogeneity: 0.85.\n",
            "IMERG  has shape of: (50, 50, 1, 4) and homogeneity: 0.93.\n"
          ],
          "name": "stdout"
        }
      ]
    },
    {
      "cell_type": "markdown",
      "metadata": {
        "id": "nozEE0Ip1xDo"
      },
      "source": [
        "From co-occurance matrices to co-occurence vectors. We will simplify the above vector by counting all relations only once (np.unique) so that the generated outputs have the same lengths."
      ]
    },
    {
      "cell_type": "code",
      "metadata": {
        "colab": {
          "base_uri": "https://localhost:8080/"
        },
        "id": "grs_YIf5BB5F",
        "outputId": "8d3ea1be-be79-4474-8fb7-2567e6e5eaa7"
      },
      "source": [
        "# matrices to vectors\n",
        "cove_CMORPH = coma_CMORPH.flatten()  # np.unique\n",
        "cove_TAMSAT = coma_TAMSAT.flatten()  # np.unique\n",
        "cove_IMERG  = coma_IMERG.flatten()  # np.unique\n",
        "\n",
        "# print length\n",
        "print(f'CMORPH has length of: {cove_CMORPH.shape}.' )\n",
        "print(f'TAMSAT has length of: {cove_TAMSAT.shape}.' )\n",
        "print(f'IMERG  has length of: {cove_IMERG.shape}.' )"
      ],
      "execution_count": null,
      "outputs": [
        {
          "output_type": "stream",
          "text": [
            "CMORPH has length of: (10000,).\n",
            "TAMSAT has length of: (10000,).\n",
            "IMERG  has length of: (10000,).\n"
          ],
          "name": "stdout"
        }
      ]
    },
    {
      "cell_type": "markdown",
      "metadata": {
        "id": "J2GIccT30ywl"
      },
      "source": [
        "Compute the Jensen-Shannon distance of the three different co-occurence matrices. This function takes two probability functions (spatial signatures in our case) A and B, and calculates entropy values (H). \n",
        "\n",
        "The Jenson-Shannon distance is a value between 0 and 1, where 0 means that two probability functions are identical, and 1 means that they have nothing in common."
      ]
    },
    {
      "cell_type": "code",
      "metadata": {
        "colab": {
          "base_uri": "https://localhost:8080/"
        },
        "id": "O4n3RWkfBCLW",
        "outputId": "75f82469-627e-459f-8069-7b7b7300468b"
      },
      "source": [
        "from scipy.spatial import distance\n",
        "\n",
        "js_CMORPH_TAMSAT = distance.jensenshannon(cove_CMORPH, cove_TAMSAT)\n",
        "js_CMORPH_IMERG  = distance.jensenshannon(cove_CMORPH, cove_IMERG)\n",
        "js_TAMSAT_IMERG  = distance.jensenshannon(cove_IMERG, cove_TAMSAT)\n",
        "\n",
        "# print\n",
        "print(f'CMORPH and TAMSAT have a Jensen-Shannon distance of: {js_CMORPH_TAMSAT:.2f}.' )\n",
        "print(f'CMORPH and IMERG  have a Jensen-Shannon distance of: {js_CMORPH_IMERG:.2f}.' )\n",
        "print(f'TAMSAT and IMERG  have a Jensen-Shannon distance of: {js_TAMSAT_IMERG:.2f}.' )"
      ],
      "execution_count": null,
      "outputs": [
        {
          "output_type": "stream",
          "text": [
            "CMORPH and TAMSAT have a Jensen-Shannon distance of: 0.41.\n",
            "CMORPH and IMERG  have a Jensen-Shannon distance of: 0.15.\n",
            "TAMSAT and IMERG  have a Jensen-Shannon distance of: 0.40.\n"
          ],
          "name": "stdout"
        }
      ]
    },
    {
      "cell_type": "markdown",
      "metadata": {
        "id": "RwzVHVzf1Ex2"
      },
      "source": [
        "3. Perceptual hash"
      ]
    },
    {
      "cell_type": "markdown",
      "metadata": {
        "id": "fbILOxk7EPhe"
      },
      "source": [
        "Average out (32, 32) to (8, 8)"
      ]
    },
    {
      "cell_type": "code",
      "metadata": {
        "colab": {
          "base_uri": "https://localhost:8080/"
        },
        "id": "I6wryYrv1FV2",
        "outputId": "64126149-e3d3-473a-9675-be5e3fd7079a"
      },
      "source": [
        "CMORPH_64 = x_tra[ix, :, :, 0].reshape([8, 32//8, 8, 32//8]).mean(3).mean(1)\n",
        "TAMSAT_64 = x_tra[ix, :, :, 1].reshape([8, 32//8, 8, 32//8]).mean(3).mean(1)\n",
        "IMERG_64  = x_tra[ix, :, :, 2].reshape([8, 32//8, 8, 32//8]).mean(3).mean(1)\n",
        "\n",
        "# print shapes\n",
        "print(f'CMORPH has shape of: {CMORPH_64.shape}.' )\n",
        "print(f'TAMSAT has shape of: {TAMSAT_64.shape}.' )\n",
        "print(f'IMERG  has shape of: {IMERG_64.shape}.' )"
      ],
      "execution_count": null,
      "outputs": [
        {
          "output_type": "stream",
          "text": [
            "CMORPH has shape of: (8, 8).\n",
            "TAMSAT has shape of: (8, 8).\n",
            "IMERG  has shape of: (8, 8).\n"
          ],
          "name": "stdout"
        }
      ]
    },
    {
      "cell_type": "markdown",
      "metadata": {
        "id": "S_Y3nNPcGXg7"
      },
      "source": [
        "Calculate the hash"
      ]
    },
    {
      "cell_type": "code",
      "metadata": {
        "id": "el4AJTVq6n_u"
      },
      "source": [
        "CMORPH_64 = ( CMORPH_64 > CMORPH_64.mean() ).astype(int)\n",
        "TAMSAT_64 = ( TAMSAT_64 > TAMSAT_64.mean() ).astype(int)\n",
        "IMERG_64  = ( IMERG_64  > IMERG_64.mean()  ).astype(int)"
      ],
      "execution_count": null,
      "outputs": []
    },
    {
      "cell_type": "markdown",
      "metadata": {
        "id": "ShkX3liRGaGb"
      },
      "source": [
        "Calculate Hamming's distance"
      ]
    },
    {
      "cell_type": "code",
      "metadata": {
        "colab": {
          "base_uri": "https://localhost:8080/"
        },
        "id": "wLak2Wq-GaiM",
        "outputId": "72b7e3f0-8e88-4691-c98d-dc58e3237c97"
      },
      "source": [
        "from scipy.spatial import distance\n",
        "\n",
        "# 0: identical and 1: opposite\n",
        "hamming_CMORPH_TAMSAT = distance.hamming(CMORPH_64.flatten(), TAMSAT_64.flatten())\n",
        "hamming_CMORPH_IMERG  = distance.hamming(CMORPH_64.flatten(), IMERG_64.flatten())\n",
        "hamming_TAMSAT_IMERG  = distance.hamming(IMERG_64.flatten() , TAMSAT_64.flatten())\n",
        "\n",
        "\n",
        "# print\n",
        "print(f'CMORPH and TAMSAT have a Hamming distance of: {hamming_CMORPH_TAMSAT:.2f}.' )\n",
        "print(f'CMORPH and IMERG  have a Hamming distance of: {hamming_CMORPH_IMERG:.2f}.' )\n",
        "print(f'TAMSAT and IMERG  have a Hamming distance of: {hamming_TAMSAT_IMERG:.2f}.' )"
      ],
      "execution_count": null,
      "outputs": [
        {
          "output_type": "stream",
          "text": [
            "CMORPH and TAMSAT have a Hamming distance of: 0.42.\n",
            "CMORPH and IMERG  have a Hamming distance of: 0.19.\n",
            "TAMSAT and IMERG  have a Hamming distance of: 0.39.\n"
          ],
          "name": "stdout"
        }
      ]
    },
    {
      "cell_type": "markdown",
      "metadata": {
        "id": "n-3n4E8R2ziz"
      },
      "source": [
        "# Misclassification index"
      ]
    },
    {
      "cell_type": "markdown",
      "metadata": {
        "id": "a967C-uuzHCR"
      },
      "source": [
        "### Load the miss_index"
      ]
    },
    {
      "cell_type": "code",
      "metadata": {
        "id": "g7e9kLKezH24"
      },
      "source": [
        "miss_index = np.loadtxt(folder+'MissIndexMajorityModel2.txt')"
      ],
      "execution_count": 14,
      "outputs": []
    },
    {
      "cell_type": "markdown",
      "metadata": {
        "id": "edfghBah4xNu"
      },
      "source": [
        "### Interpret the misclassified index"
      ]
    },
    {
      "cell_type": "code",
      "metadata": {
        "colab": {
          "base_uri": "https://localhost:8080/"
        },
        "id": "8MFdKPLe4CCD",
        "outputId": "3a9eabda-b71f-495d-c5bf-4a288d52bbdb"
      },
      "source": [
        "print('Number of missclassified days:', len(miss_index), 'out of', len(y_tst), 'in the test dataset')"
      ],
      "execution_count": 15,
      "outputs": [
        {
          "output_type": "stream",
          "text": [
            "Number of missclassified days: 1136 out of 4808 in the test dataset\n"
          ],
          "name": "stdout"
        }
      ]
    },
    {
      "cell_type": "markdown",
      "metadata": {
        "id": "1JnszKagR0Xk"
      },
      "source": [
        "First step is to covert the miss_index sequence from representing the test dataset to the index of the whole dataset: "
      ]
    },
    {
      "cell_type": "code",
      "metadata": {
        "colab": {
          "base_uri": "https://localhost:8080/"
        },
        "id": "TkJdm-VURg1Q",
        "outputId": "8d8447d7-1fe7-4b6d-b92f-c017f138415d"
      },
      "source": [
        "miss_index_initial = np.sort( ind_tst[ miss_index.astype(int) ] )\n",
        "miss_index_initial[0:100]"
      ],
      "execution_count": 16,
      "outputs": [
        {
          "output_type": "execute_result",
          "data": {
            "text/plain": [
              "array([  15,   27,   36,   39,   41,   46,   47,   63,   70,   84,   88,\n",
              "        101,  168,  180,  181,  185,  200,  221,  257,  327,  346,  357,\n",
              "        373,  376,  379,  385,  388,  399,  410,  420,  455,  465,  473,\n",
              "        483,  499,  510,  528,  530,  535,  542,  543,  613,  624,  637,\n",
              "        642,  668,  673,  676,  683,  696,  708,  732,  761,  772,  800,\n",
              "        820,  829,  833,  836,  850,  856,  907,  908,  962,  965,  967,\n",
              "        977,  978, 1011, 1034, 1041, 1053, 1110, 1119, 1123, 1142, 1147,\n",
              "       1157, 1160, 1190, 1217, 1219, 1225, 1237, 1250, 1253, 1275, 1277,\n",
              "       1282, 1288, 1297, 1303, 1315, 1350, 1427, 1443, 1451, 1457, 1459,\n",
              "       1575])"
            ]
          },
          "metadata": {
            "tags": []
          },
          "execution_count": 16
        }
      ]
    },
    {
      "cell_type": "code",
      "metadata": {
        "colab": {
          "base_uri": "https://localhost:8080/"
        },
        "id": "lZIi2nB34B0N",
        "outputId": "d0f28b56-ad05-40b7-cda2-1cae239ce70d"
      },
      "source": [
        "time_error_daily = np.sum(np.diff(miss_index_initial, n=1) == 1)\n",
        "print(f'{time_error_daily:.0f} times misclassifications happen in two consecutive days.')\n",
        "print(f'Can we assume that {2 * time_error_daily:.0f} misclassifications out of all happen because of timing error in the daily scale?')"
      ],
      "execution_count": 17,
      "outputs": [
        {
          "output_type": "stream",
          "text": [
            "91 times misclassifications happen in two consecutive days.\n",
            "Can we assume that 182 misclassifications out of all happen because of timing error in the daily scale?\n"
          ],
          "name": "stdout"
        }
      ]
    },
    {
      "cell_type": "markdown",
      "metadata": {
        "id": "p33mWE7V0hUd"
      },
      "source": [
        "Get the index of the instances of the test dataset where this and the next instance are misclassified:"
      ]
    },
    {
      "cell_type": "code",
      "metadata": {
        "id": "RzlzASNyWl6w",
        "colab": {
          "base_uri": "https://localhost:8080/"
        },
        "outputId": "df0582bc-7697-4d8e-a80a-0ee818094e53"
      },
      "source": [
        "time_error_INDEX = miss_index_initial[ np.where(np.diff(miss_index_initial, n=1) == 1)[0] ]\n",
        "print(time_error_INDEX)"
      ],
      "execution_count": 18,
      "outputs": [
        {
          "output_type": "stream",
          "text": [
            "[   46   180   542   907   977  1575  1743  1746  2328  2613  2614  2615\n",
            "  2655  2726  2753  2864  2928  3014  3037  3076  3105  3106  3115  3221\n",
            "  3378  3467  3570  3577  3702  3836  3837  3851  3886  3909  4003  4073\n",
            "  4093  4097  4128  4201  4237  4303  4403  4560  4629  4638  4705  4720\n",
            "  4745  4754  4785  5225  5363  5651  5688  6595  6692  7820  8121  8443\n",
            "  9124  9619 10777 11674 11735 11853 11895 12445 12654 12664 12949 13530\n",
            " 13804 13805 13954 14046 14050 14063 14132 14367 14464 14494 14795 15048\n",
            " 15199 15233 15355 15392 15778 15782 15831]\n"
          ],
          "name": "stdout"
        }
      ]
    },
    {
      "cell_type": "code",
      "metadata": {
        "colab": {
          "base_uri": "https://localhost:8080/"
        },
        "id": "BGXVdELDzpuV",
        "outputId": "f7476543-c6a3-49fa-c68c-428170e91fde"
      },
      "source": [
        "print(miss_index_initial[0:80])"
      ],
      "execution_count": 19,
      "outputs": [
        {
          "output_type": "stream",
          "text": [
            "[  15   27   36   39   41   46   47   63   70   84   88  101  168  180\n",
            "  181  185  200  221  257  327  346  357  373  376  379  385  388  399\n",
            "  410  420  455  465  473  483  499  510  528  530  535  542  543  613\n",
            "  624  637  642  668  673  676  683  696  708  732  761  772  800  820\n",
            "  829  833  836  850  856  907  908  962  965  967  977  978 1011 1034\n",
            " 1041 1053 1110 1119 1123 1142 1147 1157 1160 1190]\n"
          ],
          "name": "stdout"
        }
      ]
    },
    {
      "cell_type": "markdown",
      "metadata": {
        "id": "xSuhjQgT0xrN"
      },
      "source": [
        "The next step is to visually check if our assumptions holds true: For every pair of consecutive misclassification, the one time instance of one data source should feature the conditions that match the other data source and vice versa."
      ]
    },
    {
      "cell_type": "code",
      "metadata": {
        "colab": {
          "base_uri": "https://localhost:8080/"
        },
        "id": "aXUqSWgG4IvQ",
        "outputId": "e28633b7-b9f5-4a29-d4bb-54ecb2a53a23"
      },
      "source": [
        "input_st_CMORPH = x[:, :, :, 0]\n",
        "input_st_TAMSAT = x[:, :, :, 1]\n",
        "input_st_IMERG  = x[:, :, :, 2]\n",
        "output_testing = y_tst\n",
        "\n",
        "print('Shapes of datasets')\n",
        "print(input_st_IMERG.shape, output_testing.shape)"
      ],
      "execution_count": 20,
      "outputs": [
        {
          "output_type": "stream",
          "text": [
            "Shapes of datasets\n",
            "(16026, 32, 32) (4808,)\n"
          ],
          "name": "stdout"
        }
      ]
    },
    {
      "cell_type": "markdown",
      "metadata": {
        "id": "BikWndOS3fWh"
      },
      "source": [
        "### 1. to visualize all the misclassifications and the next days:"
      ]
    },
    {
      "cell_type": "code",
      "metadata": {
        "id": "xoh8oWnYztmj"
      },
      "source": [
        "for ix in time_error_INDEX:\n",
        "\n",
        "  station = locations.index[ locations[ 'station_latitude(dec.degree)' ] == df.iloc[ind_tst[ix]] ][0]\n",
        "\n",
        "  # set minimum and maximum in colorbars\n",
        "  prec_max = max( np.max(input_st_CMORPH[ix,:,:]) * m_CMORPH, np.max(input_st_TAMSAT[ix,:,:]) * m_TAMSAT, np.max(input_st_IMERG[ix,:,:]) * m_IMERG )\n",
        "  prec_max = min(prec_max, 40)  # set a threshold so it can be visible\n",
        "\n",
        "\n",
        "  # FOR index = IX\n",
        "\n",
        "  # create subplots\n",
        "  plt.figure(figsize=(20, 6))\n",
        "  plt.suptitle(f'Station {station} on {df.index[ ind_tst[ix] ].date()}: LABEL={y_tst[ix]} | Rainfall {prec[ ind_tst[ ix ]]:.2f}mm/d | output={y_mod[ix][0]:.2f} out of 3.', fontsize=15)\n",
        "  plt.subplot()\n",
        "\n",
        "  plt.subplot(131)\n",
        "  img = input_st_CMORPH[ix, :, :] * m_CMORPH\n",
        "  # plot image\n",
        "  plt.imshow(img, vmin=0, vmax=prec_max, cmap='Blues')\n",
        "  plt.plot(pixels/2, pixels/2, 'ro')\n",
        "  plt.colorbar()\n",
        "  plt.title(f'CMORPH output={y_mod_CMORPH[ix][0]:.2f} out of 1.')  \n",
        "\n",
        "\n",
        "  plt.subplot(132)\n",
        "  img = input_st_TAMSAT[ix, :, :] * m_TAMSAT\n",
        "  # plot image\n",
        "  plt.imshow(img, vmin=0, vmax=prec_max, cmap='Blues')\n",
        "  plt.plot(pixels/2, pixels/2, 'ro')\n",
        "  plt.colorbar()\n",
        "  plt.title(f'TAMSAT output={y_mod_TAMSAT[ix][0]:.2f} out of 1.')   \n",
        "\n",
        "\n",
        "  plt.subplot(133)\n",
        "  img = input_st_IMERG[ix, :, :] * m_IMERG\n",
        "  # plot image\n",
        "  plt.imshow(img, vmin=0, vmax=prec_max, cmap='Blues')\n",
        "  plt.plot(pixels/2, pixels/2, 'ro')\n",
        "  plt.colorbar()\n",
        "  plt.title(f'IMERG output={y_mod_IMERG[ix][0]:.2f} out of 1.');\n",
        "\n",
        "\n",
        "  # FOR index = IX + 1\n",
        "  ix +=1\n",
        "\n",
        "  # create subplots\n",
        "  plt.figure(figsize=(20, 6))\n",
        "  plt.suptitle(f'Station {station} on {df.index[ ind_tst[ix] ].date()}: LABEL={y_tst[ix]} | Rainfall {prec[ ind_tst[ ix ]]:.2f}mm/d | output={y_mod[ix][0]:.2f} out of 3.', fontsize=15)\n",
        "  plt.subplot()\n",
        "\n",
        "  plt.subplot(131)\n",
        "  img = input_st_CMORPH[ix, :, :] * m_CMORPH\n",
        "  # plot image\n",
        "  plt.imshow(img, vmin=0, vmax=prec_max, cmap='Blues')\n",
        "  plt.plot(pixels/2, pixels/2, 'ro')\n",
        "  plt.colorbar()\n",
        "  plt.title(f'CMORPH output={y_mod_CMORPH[ix][0]:.2f} out of 1.')  \n",
        "\n",
        "\n",
        "  plt.subplot(132)\n",
        "  img = input_st_TAMSAT[ix, :, :] * m_TAMSAT\n",
        "  # plot image\n",
        "  plt.imshow(img, vmin=0, vmax=prec_max, cmap='Blues')\n",
        "  plt.plot(pixels/2, pixels/2, 'ro')\n",
        "  plt.colorbar()\n",
        "  plt.title(f'TAMSAT output={y_mod_TAMSAT[ix][0]:.2f} out of 1.')   \n",
        "\n",
        "\n",
        "  plt.subplot(133)\n",
        "  img = input_st_IMERG[ix, :, :] * m_IMERG\n",
        "  # plot image\n",
        "  plt.imshow(img, vmin=0, vmax=prec_max, cmap='Blues')\n",
        "  plt.plot(pixels/2, pixels/2, 'ro')\n",
        "  plt.colorbar()\n",
        "  plt.title(f'IMERG output={y_mod_IMERG[ix][0]:.2f} out of 1.');  "
      ],
      "execution_count": null,
      "outputs": []
    },
    {
      "cell_type": "markdown",
      "metadata": {
        "id": "b3hIU6Jr3nPS"
      },
      "source": [
        "### 2. to visualize random misclassifications and the next days:"
      ]
    },
    {
      "cell_type": "code",
      "metadata": {
        "colab": {
          "base_uri": "https://localhost:8080/",
          "height": 795
        },
        "id": "9VqkSfUu3eXZ",
        "outputId": "da88590b-34ee-4288-a0e0-4d5f2a489f4b"
      },
      "source": [
        "# select random image\n",
        "ix = time_error_INDEX[random.randint(0, len(time_error_INDEX))].astype(int)\n",
        "station = locations.index[ locations[ 'station_latitude(dec.degree)' ] == df.iloc[ix] ][0]\n",
        "\n",
        "# set minimum and maximum in colorbars\n",
        "prec_max = max( np.max(input_st_CMORPH[ix,:,:]) * m_CMORPH, np.max(input_st_TAMSAT[ix,:,:]) * m_TAMSAT, np.max(input_st_IMERG[ix,:,:]) * m_IMERG )\n",
        "prec_max = min(prec_max, 40)  # set a threshold so it can be visible\n",
        "\n",
        "\n",
        "# FOR index = IX\n",
        "if y[ ix ] == 0.0:\n",
        "  modeled_output = 1.0\n",
        "else:\n",
        "  modeled_output = 0.0\n",
        "\n",
        "\n",
        "# create subplots\n",
        "plt.figure(figsize=(20, 6))\n",
        "plt.suptitle(f'Station {station} on {df.index[ ix ].date()}: Label={y[ ix ]:.0f} | Rainfall {prec[ ix ]:.2f}mm/d | Modeled output={modeled_output:.0f}', fontsize=15)\n",
        "plt.subplot()\n",
        "\n",
        "\n",
        "plt.subplot(131)\n",
        "img = input_st_CMORPH[ix, :, :] * m_CMORPH\n",
        "# plot image\n",
        "plt.imshow(img, vmin=0, vmax=prec_max, cmap='Blues')\n",
        "plt.plot(pixels/2, pixels/2, 'ro')\n",
        "plt.colorbar()\n",
        "# plt.title(f'CMORPH output={y_mod_CMORPH[ix][0]:.2f} out of 1.')  \n",
        "\n",
        "\n",
        "plt.subplot(132)\n",
        "img = input_st_TAMSAT[ix, :, :] * m_TAMSAT\n",
        "# plot image\n",
        "plt.imshow(img, vmin=0, vmax=prec_max, cmap='Blues')\n",
        "plt.plot(pixels/2, pixels/2, 'ro')\n",
        "plt.colorbar()\n",
        "# plt.title(f'TAMSAT output={y_mod_TAMSAT[ix][0]:.2f} out of 1.')   \n",
        "\n",
        "\n",
        "plt.subplot(133)\n",
        "img = input_st_IMERG[ix, :, :] * m_IMERG\n",
        "# plot image\n",
        "plt.imshow(img, vmin=0, vmax=prec_max, cmap='Blues')\n",
        "plt.plot(pixels/2, pixels/2, 'ro')\n",
        "plt.colorbar()\n",
        "# plt.title(f'IMERG output={y_mod_IMERG[ix][0]:.2f} out of 1.')\n",
        "\n",
        "\n",
        "# FOR index = IX + 1\n",
        "ix +=1\n",
        "if y[ ix ] == 0.0:\n",
        "  modeled_output = 1.0\n",
        "else:\n",
        "  modeled_output = 0.0\n",
        "\n",
        "\n",
        "# create subplots\n",
        "plt.figure(figsize=(20, 6))\n",
        "plt.suptitle(f'Station {station} on {df.index[ ix ].date()}: Label={y[ ix ]:.0f} | Rainfall {prec[ ix ]:.2f}mm/d | Modeled output={modeled_output:.0f}', fontsize=15)\n",
        "plt.subplot()\n",
        "\n",
        "\n",
        "plt.subplot(131)\n",
        "img = input_st_CMORPH[ix, :, :] * m_CMORPH\n",
        "# plot image\n",
        "plt.imshow(img, vmin=0, vmax=prec_max, cmap='Blues')\n",
        "plt.plot(pixels/2, pixels/2, 'ro')\n",
        "plt.colorbar()\n",
        "# plt.title(f'CMORPH output={y_mod_CMORPH[ix][0]:.2f} out of 1.')  \n",
        "\n",
        "\n",
        "plt.subplot(132)\n",
        "img = input_st_TAMSAT[ix, :, :] * m_TAMSAT\n",
        "# plot image\n",
        "plt.imshow(img, vmin=0, vmax=prec_max, cmap='Blues')\n",
        "plt.plot(pixels/2, pixels/2, 'ro')\n",
        "plt.colorbar()\n",
        "# plt.title(f'TAMSAT output={y_mod_TAMSAT[ix][0]:.2f} out of 1.')   \n",
        "\n",
        "\n",
        "plt.subplot(133)\n",
        "img = input_st_IMERG[ix, :, :] * m_IMERG\n",
        "# plot image\n",
        "plt.imshow(img, vmin=0, vmax=prec_max, cmap='Blues')\n",
        "plt.plot(pixels/2, pixels/2, 'ro')\n",
        "plt.colorbar();\n",
        "# plt.title(f'IMERG output={y_mod_IMERG[ix][0]:.2f} out of 1.');"
      ],
      "execution_count": 39,
      "outputs": [
        {
          "output_type": "display_data",
          "data": {
            "image/png": "[encoded data removed]",
            "text/plain": [
              "<Figure size 1440x432 with 6 Axes>"
            ]
          },
          "metadata": {
            "tags": []
          }
        },
        {
          "output_type": "display_data",
          "data": {
            "image/png": "[encoded data removed]",
            "text/plain": [
              "<Figure size 1440x432 with 6 Axes>"
            ]
          },
          "metadata": {
            "tags": []
          }
        }
      ]
    },
    {
      "cell_type": "code",
      "metadata": {
        "colab": {
          "base_uri": "https://localhost:8080/"
        },
        "id": "cGeUB-8anVbQ",
        "outputId": "53fbd31a-921c-4941-9e86-891952c2110f"
      },
      "source": [
        "station_timing_errors, count_station_timing_errors = np.unique( df.iloc[time_error_INDEX], return_counts=True )\n",
        "print(station_timing_errors, count_station_timing_errors)"
      ],
      "execution_count": 81,
      "outputs": [
        {
          "output_type": "stream",
          "text": [
            "[ 9.33       10.03       10.1991     10.53       10.7833     10.84725086\n",
            " 10.91393386 11.192883   11.261641   13.52       14.2043     15.2514\n",
            " 15.36      ] [ 6  3 42  2  8  1  3  2  3  3  9  5  4]\n"
          ],
          "name": "stdout"
        }
      ]
    },
    {
      "cell_type": "code",
      "metadata": {
        "colab": {
          "base_uri": "https://localhost:8080/"
        },
        "id": "cG5g5ez9ooxB",
        "outputId": "2d5816c8-3e30-4a5e-acc8-45bb528f27ce"
      },
      "source": [
        "station_occ, count_station_occ = np.unique( df[ ind_tst ], return_counts=True )\n",
        "print(station_occ, count_station_occ)"
      ],
      "execution_count": 82,
      "outputs": [
        {
          "output_type": "stream",
          "text": [
            "[ 9.33       10.03       10.1991     10.53       10.7833     10.84725086\n",
            " 10.86667    10.91393386 11.192883   11.261641   13.52       14.2043\n",
            " 15.2514     15.36      ] [402 198 678 360 214  81 104 126  94 144 436 767 565 639]\n"
          ],
          "name": "stdout"
        }
      ]
    },
    {
      "cell_type": "code",
      "metadata": {
        "colab": {
          "base_uri": "https://localhost:8080/"
        },
        "id": "zu2-QrNkpbDt",
        "outputId": "c2e4631f-9528-46e5-d47d-840140210f13"
      },
      "source": [
        "# delete the one station with no timing errors index=6 lat=10.8667\n",
        "\n",
        "station_occ = np.delete(station_occ, 6)\n",
        "count_station_occ = np.delete(count_station_occ, 6)\n",
        "print(station_occ, count_station_occ)"
      ],
      "execution_count": 83,
      "outputs": [
        {
          "output_type": "stream",
          "text": [
            "[ 9.33       10.03       10.1991     10.53       10.7833     10.84725086\n",
            " 10.91393386 11.192883   11.261641   13.52       14.2043     15.2514\n",
            " 15.36      ] [402 198 678 360 214  81 126  94 144 436 767 565 639]\n"
          ],
          "name": "stdout"
        }
      ]
    },
    {
      "cell_type": "markdown",
      "metadata": {
        "id": "yWNBSzeRqgQ6"
      },
      "source": [
        "Link station to timing error occurence:"
      ]
    },
    {
      "cell_type": "code",
      "metadata": {
        "colab": {
          "base_uri": "https://localhost:8080/"
        },
        "id": "425rf6n-pJEt",
        "outputId": "0ad8ac75-0bbe-48e4-c788-7e68838577b8"
      },
      "source": [
        "station_percentage_timing_errors = count_station_timing_errors * 100 / (count_station_occ)  \n",
        "print(station_percentage_timing_errors)"
      ],
      "execution_count": 84,
      "outputs": [
        {
          "output_type": "stream",
          "text": [
            "[1.49253731 1.51515152 6.19469027 0.55555556 3.73831776 1.2345679\n",
            " 2.38095238 2.12765957 2.08333333 0.68807339 1.17340287 0.88495575\n",
            " 0.62597809]\n"
          ],
          "name": "stdout"
        }
      ]
    },
    {
      "cell_type": "code",
      "metadata": {
        "colab": {
          "base_uri": "https://localhost:8080/"
        },
        "id": "5KDMNHOyqwNi",
        "outputId": "f5eb1983-575e-4807-f4e2-1cdfec49cab1"
      },
      "source": [
        "for i in range(8):\n",
        "  ind = np.where( locations[ 'station_latitude(dec.degree)' ] == station_occ[i] )[0][0]\n",
        "  station = locations.index[ind]\n",
        "  print(f'Station {station} with latitude {station_occ[i]:.3f} has {station_percentage_timing_errors[i]:.3f}% daily-scale timing errors.')\n",
        "  print(' ')\n",
        "\n",
        "print(f'Station YABOGANE with latitude {station_occ[8]:.3f} has {station_percentage_timing_errors[8]:.3f}% daily-scale timing errors.')\n",
        "print(' ')\n",
        "\n",
        "for i in range(9, 13):\n",
        "  ind = np.where( locations[ 'station_latitude(dec.degree)' ] == station_occ[i] )[0][0]\n",
        "  station = locations.index[ind]\n",
        "  print(f'Station {station} with latitude {station_occ[i]:.3f} has {station_percentage_timing_errors[i]:.3f}% daily-scale timing errors.')\n",
        "  print(' ')"
      ],
      "execution_count": 85,
      "outputs": [
        {
          "output_type": "stream",
          "text": [
            "Station TAMALE with latitude 9.330 has 1.493% daily-scale timing errors.\n",
            " \n",
            "Station WA with latitude 10.030 has 1.515% daily-scale timing errors.\n",
            " \n",
            "Station TOBRE with latitude 10.199 has 6.195% daily-scale timing errors.\n",
            " \n",
            "Station NAVRONGO with latitude 10.530 has 0.556% daily-scale timing errors.\n",
            " \n",
            "Station ZUARUNGU with latitude 10.783 has 3.738% daily-scale timing errors.\n",
            " \n",
            "Station ANIABISI with latitude 10.847 has 1.235% daily-scale timing errors.\n",
            " \n",
            "Station POUDRI with latitude 10.914 has 2.381% daily-scale timing errors.\n",
            " \n",
            "Station LARE with latitude 11.193 has 2.128% daily-scale timing errors.\n",
            " \n",
            "Station YABOGANE with latitude 11.262 has 2.083% daily-scale timing errors.\n",
            " \n",
            "Station OUAHIGOUYA with latitude 13.520 has 0.688% daily-scale timing errors.\n",
            " \n",
            "Station TILLABERI with latitude 14.204 has 1.173% daily-scale timing errors.\n",
            " \n",
            "Station TARA with latitude 15.251 has 0.885% daily-scale timing errors.\n",
            " \n",
            "Station AGOUFOU with latitude 15.360 has 0.626% daily-scale timing errors.\n",
            " \n"
          ],
          "name": "stdout"
        }
      ]
    },
    {
      "cell_type": "markdown",
      "metadata": {
        "id": "4FlHDB_TZ2OU"
      },
      "source": [
        "# Other misclassifications\n",
        "\n",
        "Exclude the daily-scale timing errors from the index and explore the rest of the misclassifications."
      ]
    },
    {
      "cell_type": "code",
      "metadata": {
        "id": "suYZlONU4Zag",
        "colab": {
          "base_uri": "https://localhost:8080/"
        },
        "outputId": "f9fa85c2-a0ed-4a73-afb8-e4260e028dda"
      },
      "source": [
        "x = np.where(np.diff(miss_index_initial, n=1) == 1)[0]\n",
        "print(len(x), x)"
      ],
      "execution_count": 22,
      "outputs": [
        {
          "output_type": "stream",
          "text": [
            "91 [   5   13   39   61   66   99  109  111  134  163  164  165  170  177\n",
            "  182  192  201  215  219  224  229  230  233  240  255  266  276  278\n",
            "  293  304  305  308  311  316  332  343  348  350  356  366  372  384\n",
            "  395  417  425  428  432  436  441  443  447  472  480  491  495  539\n",
            "  543  590  607  622  653  683  756  802  805  812  818  859  875  878\n",
            "  899  937  957  958  970  978  980  982  989 1008 1016 1020 1043 1061\n",
            " 1076 1079 1087 1091 1116 1118 1122]\n"
          ],
          "name": "stdout"
        }
      ]
    },
    {
      "cell_type": "code",
      "metadata": {
        "colab": {
          "base_uri": "https://localhost:8080/"
        },
        "id": "VPxa-qVSbZfJ",
        "outputId": "c60dccfa-d6d8-407f-9831-cf275cecae7d"
      },
      "source": [
        "x = np.sort( np.concatenate((x, x+1)) )\n",
        "print(len(x), x)"
      ],
      "execution_count": 23,
      "outputs": [
        {
          "output_type": "stream",
          "text": [
            "182 [   5    6   13   14   39   40   61   62   66   67   99  100  109  110\n",
            "  111  112  134  135  163  164  164  165  165  166  170  171  177  178\n",
            "  182  183  192  193  201  202  215  216  219  220  224  225  229  230\n",
            "  230  231  233  234  240  241  255  256  266  267  276  277  278  279\n",
            "  293  294  304  305  305  306  308  309  311  312  316  317  332  333\n",
            "  343  344  348  349  350  351  356  357  366  367  372  373  384  385\n",
            "  395  396  417  418  425  426  428  429  432  433  436  437  441  442\n",
            "  443  444  447  448  472  473  480  481  491  492  495  496  539  540\n",
            "  543  544  590  591  607  608  622  623  653  654  683  684  756  757\n",
            "  802  803  805  806  812  813  818  819  859  860  875  876  878  879\n",
            "  899  900  937  938  957  958  958  959  970  971  978  979  980  981\n",
            "  982  983  989  990 1008 1009 1016 1017 1020 1021 1043 1044 1061 1062\n",
            " 1076 1077 1079 1080 1087 1088 1091 1092 1116 1117 1118 1119 1122 1123]\n"
          ],
          "name": "stdout"
        }
      ]
    },
    {
      "cell_type": "code",
      "metadata": {
        "colab": {
          "base_uri": "https://localhost:8080/"
        },
        "id": "bDkdC8Joa0eG",
        "outputId": "9abb327f-90d7-4417-d3d0-7171cf3f3273"
      },
      "source": [
        "oth = np.delete( miss_index_initial, x )  # missclassifications not containing the daily time scale misses\n",
        "len(oth)"
      ],
      "execution_count": 24,
      "outputs": [
        {
          "output_type": "execute_result",
          "data": {
            "text/plain": [
              "959"
            ]
          },
          "metadata": {
            "tags": []
          },
          "execution_count": 24
        }
      ]
    },
    {
      "cell_type": "code",
      "metadata": {
        "colab": {
          "base_uri": "https://localhost:8080/"
        },
        "id": "BIHle0wgbrQ1",
        "outputId": "357df9bf-9ff8-47ff-cacf-3bf909eb8029"
      },
      "source": [
        "len(oth) + len(x)"
      ],
      "execution_count": 25,
      "outputs": [
        {
          "output_type": "execute_result",
          "data": {
            "text/plain": [
              "1141"
            ]
          },
          "metadata": {
            "tags": []
          },
          "execution_count": 25
        }
      ]
    },
    {
      "cell_type": "code",
      "metadata": {
        "colab": {
          "base_uri": "https://localhost:8080/"
        },
        "id": "3PzYXLH-c6LM",
        "outputId": "58f537a6-226e-41c4-a4f7-3e5e992d6fad"
      },
      "source": [
        "len(miss_index_initial)"
      ],
      "execution_count": 26,
      "outputs": [
        {
          "output_type": "execute_result",
          "data": {
            "text/plain": [
              "1136"
            ]
          },
          "metadata": {
            "tags": []
          },
          "execution_count": 26
        }
      ]
    },
    {
      "cell_type": "markdown",
      "metadata": {
        "id": "Skg334-TeUBM"
      },
      "source": [
        "5 indices are met twice: 3 consecutive misclassified days!"
      ]
    },
    {
      "cell_type": "markdown",
      "metadata": {
        "id": "oDmvE_hIe2xn"
      },
      "source": [
        "### Visualizing non-daily time scale error misclassifications:"
      ]
    },
    {
      "cell_type": "code",
      "metadata": {
        "colab": {
          "base_uri": "https://localhost:8080/",
          "height": 406
        },
        "id": "AUd41uTFeKFF",
        "outputId": "032b1d55-9533-4f60-a43f-b2dae674252f"
      },
      "source": [
        "# select random image\n",
        "ix = oth[random.randint(0, len(oth))].astype(int)\n",
        "station = locations.index[ locations[ 'station_latitude(dec.degree)' ] == df.iloc[ix] ][0]\n",
        "\n",
        "# set minimum and maximum in colorbars\n",
        "prec_max = max( np.max(input_st_CMORPH[ix,:,:]) * m_CMORPH, np.max(input_st_TAMSAT[ix,:,:]) * m_TAMSAT, np.max(input_st_IMERG[ix,:,:]) * m_IMERG )\n",
        "prec_max = min(prec_max, 40)  # set a threshold so it can be visible\n",
        "\n",
        "\n",
        "# FOR index = IX\n",
        "if y[ ix ] == 0.0:\n",
        "  modeled_output = 1.0\n",
        "else:\n",
        "  modeled_output = 0.0\n",
        "\n",
        "\n",
        "# create subplots\n",
        "plt.figure(figsize=(20, 6))\n",
        "plt.suptitle(f'Station {station} on {df.index[ ix ].date()}: Label={y[ ix ]:.0f} | Rainfall {prec[ ix ]:.2f}mm/d | Modeled output={modeled_output:.0f}', fontsize=15)\n",
        "plt.subplot()\n",
        "\n",
        "\n",
        "plt.subplot(131)\n",
        "img = input_st_CMORPH[ix, :, :] * m_CMORPH\n",
        "# plot image\n",
        "plt.imshow(img, vmin=0, vmax=prec_max, cmap='Blues')\n",
        "plt.plot(pixels/2, pixels/2, 'ro')\n",
        "plt.colorbar()\n",
        "# plt.title(f'CMORPH output={y_mod_CMORPH[ix][0]:.2f} out of 1.')  \n",
        "\n",
        "\n",
        "plt.subplot(132)\n",
        "img = input_st_TAMSAT[ix, :, :] * m_TAMSAT\n",
        "# plot image\n",
        "plt.imshow(img, vmin=0, vmax=prec_max, cmap='Blues')\n",
        "plt.plot(pixels/2, pixels/2, 'ro')\n",
        "plt.colorbar()\n",
        "# plt.title(f'TAMSAT output={y_mod_TAMSAT[ix][0]:.2f} out of 1.')   \n",
        "\n",
        "\n",
        "plt.subplot(133)\n",
        "img = input_st_IMERG[ix, :, :] * m_IMERG\n",
        "# plot image\n",
        "plt.imshow(img, vmin=0, vmax=prec_max, cmap='Blues')\n",
        "plt.plot(pixels/2, pixels/2, 'ro')\n",
        "plt.colorbar();\n",
        "# plt.title(f'IMERG output={y_mod_IMERG[ix][0]:.2f} out of 1.')"
      ],
      "execution_count": 34,
      "outputs": [
        {
          "output_type": "display_data",
          "data": {
            "image/png": "[encoded data removed]",
            "text/plain": [
              "<Figure size 1440x432 with 6 Axes>"
            ]
          },
          "metadata": {
            "tags": []
          }
        }
      ]
    },
    {
      "cell_type": "code",
      "metadata": {
        "id": "_wkCYiO2e0gc"
      },
      "source": [
        ""
      ],
      "execution_count": null,
      "outputs": []
    }
  ]
}